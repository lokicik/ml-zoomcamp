{
 "metadata": {
  "kernelspec": {
   "language": "python",
   "display_name": "Python 3",
   "name": "python3"
  },
  "language_info": {
   "name": "python",
   "version": "3.10.12",
   "mimetype": "text/x-python",
   "codemirror_mode": {
    "name": "ipython",
    "version": 3
   },
   "pygments_lexer": "ipython3",
   "nbconvert_exporter": "python",
   "file_extension": ".py"
  },
  "kaggle": {
   "accelerator": "nvidiaTeslaT4",
   "dataSources": [],
   "dockerImageVersionId": 30587,
   "isInternetEnabled": true,
   "language": "python",
   "sourceType": "notebook",
   "isGpuEnabled": true
  }
 },
 "nbformat_minor": 4,
 "nbformat": 4,
 "cells": [
  {
   "cell_type": "markdown",
   "source": [
    "# Data Prep"
   ],
   "metadata": {}
  },
  {
   "cell_type": "code",
   "source": [
    "!wget https://github.com/SVizor42/ML_Zoomcamp/releases/download/bee-wasp-data/data.zip\n",
    "!unzip data.zip"
   ],
   "metadata": {
    "execution": {
     "iopub.status.busy": "2023-11-17T22:07:34.512337Z",
     "iopub.execute_input": "2023-11-17T22:07:34.512696Z",
     "iopub.status.idle": "2023-11-17T22:07:38.589848Z",
     "shell.execute_reply.started": "2023-11-17T22:07:34.512668Z",
     "shell.execute_reply": "2023-11-17T22:07:38.588708Z"
    },
    "collapsed": true,
    "jupyter": {
     "outputs_hidden": true
    },
    "trusted": true
   },
   "execution_count": null,
   "outputs": []
  },
  {
   "cell_type": "code",
   "source": [
    "import os\n",
    "import shutil\n",
    "\n",
    "import numpy as np\n",
    "import matplotlib.pyplot as plt\n",
    "\n",
    "from tensorflow import keras\n",
    "\n",
    "from tensorflow.keras import layers\n",
    "from tensorflow.keras import models\n",
    "from tensorflow.keras import optimizers\n",
    "\n",
    "from tensorflow.keras.applications.xception import Xception\n",
    "from tensorflow.keras.applications.xception import preprocess_input\n",
    "from tensorflow.keras.applications.xception import decode_predictions\n",
    "from tensorflow.keras.preprocessing.image import ImageDataGenerator\n",
    "from tensorflow.keras.preprocessing import image\n",
    "import tensorflow as tf\n",
    "\n",
    "train_dir = \"/kaggle/working/data/train\"\n",
    "test_dir = \"/kaggle/working/data/test\""
   ],
   "metadata": {
    "execution": {
     "iopub.status.busy": "2023-11-17T22:07:53.214582Z",
     "iopub.execute_input": "2023-11-17T22:07:53.215262Z",
     "iopub.status.idle": "2023-11-17T22:08:10.734104Z",
     "shell.execute_reply.started": "2023-11-17T22:07:53.215216Z",
     "shell.execute_reply": "2023-11-17T22:08:10.733148Z"
    },
    "trusted": true
   },
   "execution_count": 3,
   "outputs": [
    {
     "name": "stderr",
     "text": "/opt/conda/lib/python3.10/site-packages/scipy/__init__.py:146: UserWarning: A NumPy version >=1.16.5 and <1.23.0 is required for this version of SciPy (detected version 1.24.3\n  warnings.warn(f\"A NumPy version >={np_minversion} and <{np_maxversion}\"\n",
     "output_type": "stream"
    }
   ]
  },
  {
   "cell_type": "markdown",
   "source": [
    "# Question 1\n",
    "\n",
    "Since we have a binary classification problem, what is the best loss function for us?\n",
    "\n",
    "* mean squared error\n",
    "* binary crossentropy\n",
    "* categorical crossentropy\n",
    "* cosine similarity\n",
    "\n",
    "Note: since we specify an activation for the output layer, we don't need to set from_logits=True\n"
   ],
   "metadata": {}
  },
  {
   "cell_type": "code",
   "source": [
    "model = models.Sequential()\n",
    "\n",
    "model.add(layers.Conv2D(32, (3, 3), activation='relu',\n",
    "                        input_shape=(150, 150, 3)))\n",
    "model.add(layers.MaxPooling2D((2, 2)))\n",
    "model.add(layers.Flatten())\n",
    "model.add(layers.Dense(64, activation='relu'))\n",
    "model.add(layers.Dense(1, activation='sigmoid'))\n",
    "\n",
    "model.compile(loss='binary_crossentropy',\\\n",
    "             optimizer=optimizers.SGD(learning_rate=0.002, momentum=0.8),\\\n",
    "             metrics=['acc'])"
   ],
   "metadata": {
    "execution": {
     "iopub.status.busy": "2023-11-17T22:08:16.314493Z",
     "iopub.execute_input": "2023-11-17T22:08:16.314784Z",
     "iopub.status.idle": "2023-11-17T22:08:16.371743Z",
     "shell.execute_reply.started": "2023-11-17T22:08:16.314760Z",
     "shell.execute_reply": "2023-11-17T22:08:16.370684Z"
    },
    "trusted": true
   },
   "execution_count": 5,
   "outputs": []
  },
  {
   "cell_type": "markdown",
   "source": [
    "We should use binary crossentropy."
   ],
   "metadata": {}
  },
  {
   "cell_type": "markdown",
   "source": [
    "# Question 2\n",
    "What's the number of parameters in the convolutional layer of our model? \n",
    "\n",
    "You can use the summary method for that.\n",
    "\n",
    "* 1\n",
    "* 65\n",
    "* 896\n",
    "* 11214912"
   ],
   "metadata": {}
  },
  {
   "cell_type": "code",
   "source": [
    "model.summary()"
   ],
   "metadata": {
    "execution": {
     "iopub.status.busy": "2023-11-17T22:08:23.873694Z",
     "iopub.execute_input": "2023-11-17T22:08:23.874481Z",
     "iopub.status.idle": "2023-11-17T22:08:23.895650Z",
     "shell.execute_reply.started": "2023-11-17T22:08:23.874446Z",
     "shell.execute_reply": "2023-11-17T22:08:23.894769Z"
    },
    "trusted": true
   },
   "execution_count": 6,
   "outputs": [
    {
     "name": "stdout",
     "text": "Model: \"sequential_1\"\n_________________________________________________________________\n Layer (type)                Output Shape              Param #   \n=================================================================\n conv2d_1 (Conv2D)           (None, 148, 148, 32)      896       \n                                                                 \n max_pooling2d_1 (MaxPoolin  (None, 74, 74, 32)        0         \n g2D)                                                            \n                                                                 \n flatten_1 (Flatten)         (None, 175232)            0         \n                                                                 \n dense_2 (Dense)             (None, 64)                11214912  \n                                                                 \n dense_3 (Dense)             (None, 1)                 65        \n                                                                 \n=================================================================\nTotal params: 11215873 (42.79 MB)\nTrainable params: 11215873 (42.79 MB)\nNon-trainable params: 0 (0.00 Byte)\n_________________________________________________________________\n",
     "output_type": "stream"
    }
   ]
  },
  {
   "cell_type": "markdown",
   "source": [
    "# Generators and Training\n",
    "For the next two questions, use the following data generator for both train and test sets:\n",
    "\n",
    "* ImageDataGenerator(rescale=1./255)\n",
    "\n",
    "We don't need to do any additional pre-processing for the images.\n",
    "When reading the data from train/test directories, check the class_mode parameter. \n",
    "\n",
    "Which value should it be for a binary classification problem?\n",
    "\n",
    "* Use batch_size=20\n",
    "* Use shuffle=True for both training and test sets.\n",
    "* For training use .fit() with the following params:\n",
    "\n",
    "* model.fit(\n",
    "    train_generator,\n",
    "    epochs=10,\n",
    "    validation_data=test_generator)\n"
   ],
   "metadata": {}
  },
  {
   "cell_type": "code",
   "source": [
    "train_datagen = ImageDataGenerator(rescale=1./255)\n",
    "val_datagen = ImageDataGenerator(rescale=1./255)"
   ],
   "metadata": {
    "execution": {
     "iopub.status.busy": "2023-11-17T22:08:27.066848Z",
     "iopub.execute_input": "2023-11-17T22:08:27.067518Z",
     "iopub.status.idle": "2023-11-17T22:08:27.071848Z",
     "shell.execute_reply.started": "2023-11-17T22:08:27.067484Z",
     "shell.execute_reply": "2023-11-17T22:08:27.070839Z"
    },
    "trusted": true
   },
   "execution_count": 7,
   "outputs": []
  },
  {
   "cell_type": "code",
   "source": [
    "train_generator = train_datagen.flow_from_directory(train_dir,\n",
    "                                                    target_size=(150, 150),\n",
    "                                                    batch_size=20,\n",
    "                                                    class_mode='binary',\n",
    "                                                    shuffle=True)\n",
    "\n",
    "validation_generator = val_datagen.flow_from_directory(test_dir,\n",
    "                                                        target_size=(150, 150),\n",
    "                                                        batch_size=20,\n",
    "                                                        class_mode='binary',\n",
    "                                                        shuffle=True)"
   ],
   "metadata": {
    "execution": {
     "iopub.status.busy": "2023-11-17T22:08:30.352085Z",
     "iopub.execute_input": "2023-11-17T22:08:30.352699Z",
     "iopub.status.idle": "2023-11-17T22:08:30.496667Z",
     "shell.execute_reply.started": "2023-11-17T22:08:30.352665Z",
     "shell.execute_reply": "2023-11-17T22:08:30.495770Z"
    },
    "trusted": true
   },
   "execution_count": 8,
   "outputs": [
    {
     "name": "stdout",
     "text": "Found 3677 images belonging to 2 classes.\nFound 918 images belonging to 2 classes.\n",
     "output_type": "stream"
    }
   ]
  },
  {
   "cell_type": "code",
   "source": [
    "history = model.fit(\n",
    "        train_generator,\n",
    "        epochs=10,\n",
    "        validation_data=validation_generator)"
   ],
   "metadata": {
    "execution": {
     "iopub.status.busy": "2023-11-17T22:08:32.207824Z",
     "iopub.execute_input": "2023-11-17T22:08:32.208193Z",
     "iopub.status.idle": "2023-11-17T22:09:50.206805Z",
     "shell.execute_reply.started": "2023-11-17T22:08:32.208165Z",
     "shell.execute_reply": "2023-11-17T22:09:50.205868Z"
    },
    "trusted": true
   },
   "execution_count": 9,
   "outputs": [
    {
     "name": "stdout",
     "text": "Epoch 1/10\n184/184 [==============================] - 20s 38ms/step - loss: 0.6829 - acc: 0.5572 - val_loss: 0.6465 - val_acc: 0.5697\nEpoch 2/10\n184/184 [==============================] - 7s 37ms/step - loss: 0.6481 - acc: 0.6111 - val_loss: 0.6327 - val_acc: 0.5632\nEpoch 3/10\n184/184 [==============================] - 6s 35ms/step - loss: 0.6170 - acc: 0.6587 - val_loss: 0.5840 - val_acc: 0.6754\nEpoch 4/10\n184/184 [==============================] - 6s 34ms/step - loss: 0.5665 - acc: 0.7142 - val_loss: 0.5618 - val_acc: 0.7146\nEpoch 5/10\n184/184 [==============================] - 6s 35ms/step - loss: 0.5272 - acc: 0.7452 - val_loss: 0.5476 - val_acc: 0.7059\nEpoch 6/10\n184/184 [==============================] - 6s 35ms/step - loss: 0.4942 - acc: 0.7743 - val_loss: 0.5124 - val_acc: 0.7516\nEpoch 7/10\n184/184 [==============================] - 6s 35ms/step - loss: 0.4676 - acc: 0.7903 - val_loss: 0.5053 - val_acc: 0.7669\nEpoch 8/10\n184/184 [==============================] - 6s 35ms/step - loss: 0.4514 - acc: 0.7998 - val_loss: 0.5390 - val_acc: 0.7200\nEpoch 9/10\n184/184 [==============================] - 6s 35ms/step - loss: 0.4286 - acc: 0.8099 - val_loss: 0.4775 - val_acc: 0.7778\nEpoch 10/10\n184/184 [==============================] - 6s 34ms/step - loss: 0.3959 - acc: 0.8338 - val_loss: 0.4904 - val_acc: 0.7603\n",
     "output_type": "stream"
    }
   ]
  },
  {
   "cell_type": "markdown",
   "source": [
    "# Question 3\n",
    "What is the median of training accuracy for all the epochs for this model?\n",
    "\n",
    "* 0.20\n",
    "* 0.40\n",
    "* 0.60\n",
    "* 0.80\n"
   ],
   "metadata": {}
  },
  {
   "cell_type": "code",
   "source": [
    "acc = history.history['acc']\n",
    "val_acc = history.history['val_acc']\n",
    "loss = history.history['loss']\n",
    "val_loss = history.history['val_loss']"
   ],
   "metadata": {
    "execution": {
     "iopub.status.busy": "2023-11-17T22:17:10.419626Z",
     "iopub.execute_input": "2023-11-17T22:17:10.420439Z",
     "iopub.status.idle": "2023-11-17T22:17:10.425447Z",
     "shell.execute_reply.started": "2023-11-17T22:17:10.420400Z",
     "shell.execute_reply": "2023-11-17T22:17:10.424398Z"
    },
    "trusted": true
   },
   "execution_count": 38,
   "outputs": []
  },
  {
   "cell_type": "code",
   "source": [
    "acc_median = np.median(acc)\n",
    "acc_median"
   ],
   "metadata": {
    "execution": {
     "iopub.status.busy": "2023-11-17T22:16:41.888265Z",
     "iopub.execute_input": "2023-11-17T22:16:41.888939Z",
     "iopub.status.idle": "2023-11-17T22:16:41.895879Z",
     "shell.execute_reply.started": "2023-11-17T22:16:41.888901Z",
     "shell.execute_reply": "2023-11-17T22:16:41.894929Z"
    },
    "trusted": true
   },
   "execution_count": 37,
   "outputs": [
    {
     "execution_count": 37,
     "output_type": "execute_result",
     "data": {
      "text/plain": "0.7597225904464722"
     },
     "metadata": {}
    }
   ]
  },
  {
   "cell_type": "markdown",
   "source": [
    "# Question 4\n",
    "What is the standard deviation of training loss for all the epochs for this model?\n",
    "\n",
    "* 0.031\n",
    "* 0.061\n",
    "* 0.091\n",
    "* 0.131"
   ],
   "metadata": {}
  },
  {
   "cell_type": "code",
   "source": [
    "np.std(loss)"
   ],
   "metadata": {
    "execution": {
     "iopub.status.busy": "2023-11-17T22:17:41.062323Z",
     "iopub.execute_input": "2023-11-17T22:17:41.063239Z",
     "iopub.status.idle": "2023-11-17T22:17:41.069890Z",
     "shell.execute_reply.started": "2023-11-17T22:17:41.063201Z",
     "shell.execute_reply": "2023-11-17T22:17:41.068689Z"
    },
    "trusted": true
   },
   "execution_count": 39,
   "outputs": [
    {
     "execution_count": 39,
     "output_type": "execute_result",
     "data": {
      "text/plain": "0.09263401092231485"
     },
     "metadata": {}
    }
   ]
  },
  {
   "cell_type": "markdown",
   "source": [
    "# Data Augmentation\n",
    "For the next two questions, we'll generate more data using data augmentations.\n",
    "\n",
    "Add the following augmentations to your training data generator:\n",
    "\n",
    "* rotation_range=50,\n",
    "* width_shift_range=0.1,\n",
    "* height_shift_range=0.1,\n",
    "* zoom_range=0.1,\n",
    "* horizontal_flip=True,\n",
    "* fill_mode='nearest'\n",
    "\n"
   ],
   "metadata": {}
  },
  {
   "cell_type": "code",
   "source": [
    "datagen = ImageDataGenerator(\n",
    "    rotation_range=50,\n",
    "    width_shift_range=0.1,\n",
    "    height_shift_range=0.1,\n",
    "    zoom_range=0.1,\n",
    "    horizontal_flip=True,\n",
    "    fill_mode='nearest')"
   ],
   "metadata": {
    "execution": {
     "iopub.status.busy": "2023-11-17T22:21:41.458826Z",
     "iopub.execute_input": "2023-11-17T22:21:41.459227Z",
     "iopub.status.idle": "2023-11-17T22:21:41.464308Z",
     "shell.execute_reply.started": "2023-11-17T22:21:41.459197Z",
     "shell.execute_reply": "2023-11-17T22:21:41.463366Z"
    },
    "trusted": true
   },
   "execution_count": 41,
   "outputs": []
  },
  {
   "cell_type": "code",
   "source": [
    "train_datagen = ImageDataGenerator(\n",
    "    rescale=1./255,\n",
    "    rotation_range=50,\n",
    "    width_shift_range=0.1,\n",
    "    height_shift_range=0.1,\n",
    "    zoom_range=0.1,\n",
    "    horizontal_flip=True,\n",
    "    fill_mode='nearest')"
   ],
   "metadata": {
    "execution": {
     "iopub.status.busy": "2023-11-17T22:21:42.915221Z",
     "iopub.execute_input": "2023-11-17T22:21:42.915578Z",
     "iopub.status.idle": "2023-11-17T22:21:42.921033Z",
     "shell.execute_reply.started": "2023-11-17T22:21:42.915550Z",
     "shell.execute_reply": "2023-11-17T22:21:42.919902Z"
    },
    "trusted": true
   },
   "execution_count": 42,
   "outputs": []
  },
  {
   "cell_type": "code",
   "source": [
    "val_datagen = ImageDataGenerator(rescale=1./255)"
   ],
   "metadata": {
    "execution": {
     "iopub.status.busy": "2023-11-17T22:21:44.342153Z",
     "iopub.execute_input": "2023-11-17T22:21:44.342600Z",
     "iopub.status.idle": "2023-11-17T22:21:44.348137Z",
     "shell.execute_reply.started": "2023-11-17T22:21:44.342559Z",
     "shell.execute_reply": "2023-11-17T22:21:44.347064Z"
    },
    "trusted": true
   },
   "execution_count": 43,
   "outputs": []
  },
  {
   "cell_type": "code",
   "source": [
    "train_generator = train_datagen.flow_from_directory(train_dir,\n",
    "                                                    target_size=(150, 150), \n",
    "                                                    batch_size=32, \n",
    "                                                    class_mode='binary')"
   ],
   "metadata": {
    "execution": {
     "iopub.status.busy": "2023-11-17T22:21:45.235199Z",
     "iopub.execute_input": "2023-11-17T22:21:45.235548Z",
     "iopub.status.idle": "2023-11-17T22:21:45.343546Z",
     "shell.execute_reply.started": "2023-11-17T22:21:45.235522Z",
     "shell.execute_reply": "2023-11-17T22:21:45.342748Z"
    },
    "trusted": true
   },
   "execution_count": 44,
   "outputs": [
    {
     "name": "stdout",
     "text": "Found 3677 images belonging to 2 classes.\n",
     "output_type": "stream"
    }
   ]
  },
  {
   "cell_type": "code",
   "source": [
    "validation_generator = val_datagen.flow_from_directory(\n",
    "    test_dir,\n",
    "    target_size=(150, 150),\n",
    "    batch_size=32,\n",
    "    class_mode='binary')"
   ],
   "metadata": {
    "execution": {
     "iopub.status.busy": "2023-11-17T22:21:48.024214Z",
     "iopub.execute_input": "2023-11-17T22:21:48.025175Z",
     "iopub.status.idle": "2023-11-17T22:21:48.060464Z",
     "shell.execute_reply.started": "2023-11-17T22:21:48.025140Z",
     "shell.execute_reply": "2023-11-17T22:21:48.059679Z"
    },
    "trusted": true
   },
   "execution_count": 45,
   "outputs": [
    {
     "name": "stdout",
     "text": "Found 918 images belonging to 2 classes.\n",
     "output_type": "stream"
    }
   ]
  },
  {
   "cell_type": "markdown",
   "source": [
    "# Question 5\n",
    "Let's train our model for 10 more epochs using the same code as previously.\n",
    "\n",
    "Note: make sure you don't re-create the model - we want to continue training the model we already started training.\n",
    "\n",
    "What is the mean of test loss for all the epochs for the model trained with augmentations?\n",
    "\n",
    "* 0.18\n",
    "* 0.48\n",
    "* 0.78\n",
    "* 0.108"
   ],
   "metadata": {}
  },
  {
   "cell_type": "code",
   "source": [
    "history = model.fit(\n",
    "    train_generator,\n",
    "    epochs=10,\n",
    "    validation_data=validation_generator)"
   ],
   "metadata": {
    "execution": {
     "iopub.status.busy": "2023-11-17T22:22:24.049414Z",
     "iopub.execute_input": "2023-11-17T22:22:24.050250Z",
     "iopub.status.idle": "2023-11-17T22:26:12.122581Z",
     "shell.execute_reply.started": "2023-11-17T22:22:24.050218Z",
     "shell.execute_reply": "2023-11-17T22:26:12.121737Z"
    },
    "trusted": true
   },
   "execution_count": 46,
   "outputs": [
    {
     "name": "stdout",
     "text": "Epoch 1/10\n115/115 [==============================] - 24s 203ms/step - loss: 0.4871 - acc: 0.7792 - val_loss: 0.4751 - val_acc: 0.7723\nEpoch 2/10\n115/115 [==============================] - 23s 200ms/step - loss: 0.4725 - acc: 0.7822 - val_loss: 0.5699 - val_acc: 0.7407\nEpoch 3/10\n115/115 [==============================] - 23s 199ms/step - loss: 0.4743 - acc: 0.7846 - val_loss: 0.4818 - val_acc: 0.7723\nEpoch 4/10\n115/115 [==============================] - 23s 198ms/step - loss: 0.4791 - acc: 0.7775 - val_loss: 0.4630 - val_acc: 0.7789\nEpoch 5/10\n115/115 [==============================] - 23s 196ms/step - loss: 0.4656 - acc: 0.7939 - val_loss: 0.5274 - val_acc: 0.7484\nEpoch 6/10\n115/115 [==============================] - 23s 197ms/step - loss: 0.4618 - acc: 0.7860 - val_loss: 0.4565 - val_acc: 0.7930\nEpoch 7/10\n115/115 [==============================] - 23s 197ms/step - loss: 0.4608 - acc: 0.7909 - val_loss: 0.5025 - val_acc: 0.7571\nEpoch 8/10\n115/115 [==============================] - 23s 196ms/step - loss: 0.4524 - acc: 0.7928 - val_loss: 0.4793 - val_acc: 0.7767\nEpoch 9/10\n115/115 [==============================] - 23s 197ms/step - loss: 0.4611 - acc: 0.7884 - val_loss: 0.4666 - val_acc: 0.7734\nEpoch 10/10\n115/115 [==============================] - 22s 195ms/step - loss: 0.4424 - acc: 0.7977 - val_loss: 0.6137 - val_acc: 0.7407\n",
     "output_type": "stream"
    }
   ]
  },
  {
   "cell_type": "code",
   "source": [
    "acc_aug = history.history['acc']\n",
    "val_acc_aug = history.history['val_acc']\n",
    "loss_aug = history.history['loss']\n",
    "val_loss_aug = history.history['val_loss']"
   ],
   "metadata": {
    "execution": {
     "iopub.status.busy": "2023-11-17T22:26:12.124949Z",
     "iopub.execute_input": "2023-11-17T22:26:12.125810Z",
     "iopub.status.idle": "2023-11-17T22:26:12.130440Z",
     "shell.execute_reply.started": "2023-11-17T22:26:12.125769Z",
     "shell.execute_reply": "2023-11-17T22:26:12.129507Z"
    },
    "trusted": true
   },
   "execution_count": 47,
   "outputs": []
  },
  {
   "cell_type": "code",
   "source": [
    "np.mean(val_loss_aug)"
   ],
   "metadata": {
    "execution": {
     "iopub.status.busy": "2023-11-17T22:26:12.131828Z",
     "iopub.execute_input": "2023-11-17T22:26:12.132775Z",
     "iopub.status.idle": "2023-11-17T22:26:12.144136Z",
     "shell.execute_reply.started": "2023-11-17T22:26:12.132741Z",
     "shell.execute_reply": "2023-11-17T22:26:12.143182Z"
    },
    "trusted": true
   },
   "execution_count": 48,
   "outputs": [
    {
     "execution_count": 48,
     "output_type": "execute_result",
     "data": {
      "text/plain": "0.5035646766424179"
     },
     "metadata": {}
    }
   ]
  },
  {
   "cell_type": "markdown",
   "source": [
    "# Question 6\n",
    "What's the average of test accuracy for the last 5 epochs (from 6 to 10) for the model trained with augmentations?\n",
    "\n",
    "* 0.38\n",
    "* 0.58\n",
    "* 0.78\n",
    "* 0.98\n"
   ],
   "metadata": {}
  },
  {
   "cell_type": "code",
   "source": [
    "np.mean(val_acc_aug[6:10])"
   ],
   "metadata": {
    "execution": {
     "iopub.status.busy": "2023-11-17T22:26:46.302695Z",
     "iopub.execute_input": "2023-11-17T22:26:46.303584Z",
     "iopub.status.idle": "2023-11-17T22:26:46.309564Z",
     "shell.execute_reply.started": "2023-11-17T22:26:46.303550Z",
     "shell.execute_reply": "2023-11-17T22:26:46.308623Z"
    },
    "trusted": true
   },
   "execution_count": 54,
   "outputs": [
    {
     "execution_count": 54,
     "output_type": "execute_result",
     "data": {
      "text/plain": "0.7619825601577759"
     },
     "metadata": {}
    }
   ]
  }
 ]
}
