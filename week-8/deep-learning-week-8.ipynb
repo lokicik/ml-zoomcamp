{
 "metadata": {
  "kernelspec": {
   "language": "python",
   "display_name": "Python 3",
   "name": "python3"
  },
  "language_info": {
   "name": "python",
   "version": "3.10.12",
   "mimetype": "text/x-python",
   "codemirror_mode": {
    "name": "ipython",
    "version": 3
   },
   "pygments_lexer": "ipython3",
   "nbconvert_exporter": "python",
   "file_extension": ".py"
  },
  "kaggle": {
   "accelerator": "nvidiaTeslaT4",
   "dataSources": [],
   "dockerImageVersionId": 30579,
   "isInternetEnabled": true,
   "language": "python",
   "sourceType": "notebook",
   "isGpuEnabled": true
  }
 },
 "nbformat_minor": 4,
 "nbformat": 4,
 "cells": [
  {
   "cell_type": "code",
   "source": [
    "!git clone https://github.com/alexeygrigorev/clothing-dataset-small.git "
   ],
   "metadata": {
    "_uuid": "8f2839f25d086af736a60e9eeb907d3b93b6e0e5",
    "_cell_guid": "b1076dfc-b9ad-4769-8c92-a6c4dae69d19",
    "execution": {
     "iopub.status.busy": "2023-11-17T14:12:16.450471Z",
     "iopub.execute_input": "2023-11-17T14:12:16.450847Z",
     "iopub.status.idle": "2023-11-17T14:12:26.553071Z",
     "shell.execute_reply.started": "2023-11-17T14:12:16.450816Z",
     "shell.execute_reply": "2023-11-17T14:12:26.552072Z"
    },
    "trusted": true
   },
   "execution_count": 2,
   "outputs": [
    {
     "name": "stdout",
     "text": "Cloning into 'clothing-dataset-small'...\nremote: Enumerating objects: 3839, done.\u001B[K\nremote: Counting objects: 100% (400/400), done.\u001B[K\nremote: Compressing objects: 100% (400/400), done.\u001B[K\nremote: Total 3839 (delta 9), reused 385 (delta 0), pack-reused 3439\u001B[K\nReceiving objects: 100% (3839/3839), 100.58 MiB | 13.51 MiB/s, done.\nResolving deltas: 100% (10/10), done.\n",
     "output_type": "stream"
    }
   ]
  },
  {
   "cell_type": "code",
   "source": [
    "import pandas as pd\n",
    "import numpy as np\n",
    "import seaborn as sns\n",
    "import matplotlib.pyplot as plt\n",
    "import tensorflow as tf\n",
    "from tensorflow import keras\n",
    "from tensorflow.keras.applications.xception import Xception\n",
    "from tensorflow.keras.applications.xception import preprocess_input\n",
    "from tensorflow.keras.applications.xception import decode_predictions\n",
    "from tensorflow.keras.preprocessing.image import load_img\n",
    "from tensorflow.keras.preprocessing.image import ImageDataGenerator\n",
    "%matplotlib inline\n",
    "\n",
    "path = \"/kaggle/working/clothing-dataset-small/train/t-shirt\"\n",
    "name = \"5f0a3fa0-6a3d-4b68-b213-72766a643de7.jpg\"\n",
    "fullname = f'{path}/{name}'\n",
    "img = load_img(fullname, target_size=(299,299))\n",
    "print(img)"
   ],
   "metadata": {
    "execution": {
     "iopub.status.busy": "2023-11-17T14:12:26.554859Z",
     "iopub.execute_input": "2023-11-17T14:12:26.555169Z",
     "iopub.status.idle": "2023-11-17T14:12:26.579762Z",
     "shell.execute_reply.started": "2023-11-17T14:12:26.555141Z",
     "shell.execute_reply": "2023-11-17T14:12:26.578892Z"
    },
    "trusted": true
   },
   "execution_count": 3,
   "outputs": [
    {
     "name": "stdout",
     "text": "<PIL.Image.Image image mode=RGB size=299x299 at 0x7D01599A6D10>\n",
     "output_type": "stream"
    }
   ]
  },
  {
   "cell_type": "code",
   "source": [
    "from tensorflow.keras.preprocessing.image import load_img"
   ],
   "metadata": {
    "execution": {
     "iopub.status.busy": "2023-11-17T12:05:42.738470Z",
     "iopub.execute_input": "2023-11-17T12:05:42.738747Z",
     "iopub.status.idle": "2023-11-17T12:05:42.743238Z",
     "shell.execute_reply.started": "2023-11-17T12:05:42.738722Z",
     "shell.execute_reply": "2023-11-17T12:05:42.742053Z"
    },
    "trusted": true
   },
   "execution_count": 5,
   "outputs": []
  },
  {
   "cell_type": "code",
   "source": [
    "path = \"/kaggle/working/clothing-dataset-small/train/t-shirt\"\n",
    "name = \"5f0a3fa0-6a3d-4b68-b213-72766a643de7.jpg\"\n",
    "fullname = f'{path}/{name}'\n",
    "img = load_img(fullname, target_size=(299,299))\n",
    "print(img)"
   ],
   "metadata": {
    "execution": {
     "iopub.status.busy": "2023-11-17T12:05:42.745326Z",
     "iopub.execute_input": "2023-11-17T12:05:42.745604Z",
     "iopub.status.idle": "2023-11-17T12:05:42.775365Z",
     "shell.execute_reply.started": "2023-11-17T12:05:42.745580Z",
     "shell.execute_reply": "2023-11-17T12:05:42.773988Z"
    },
    "trusted": true
   },
   "execution_count": 6,
   "outputs": [
    {
     "name": "stdout",
     "text": "<PIL.Image.Image image mode=RGB size=299x299 at 0x7B4585A93070>\n",
     "output_type": "stream"
    }
   ]
  },
  {
   "cell_type": "code",
   "source": [
    "x = np.array(img)\n",
    "x.shape"
   ],
   "metadata": {
    "execution": {
     "iopub.status.busy": "2023-11-17T10:51:28.795021Z",
     "iopub.execute_input": "2023-11-17T10:51:28.795834Z",
     "iopub.status.idle": "2023-11-17T10:51:28.806059Z",
     "shell.execute_reply.started": "2023-11-17T10:51:28.795800Z",
     "shell.execute_reply": "2023-11-17T10:51:28.805142Z"
    },
    "trusted": true
   },
   "execution_count": 7,
   "outputs": [
    {
     "execution_count": 7,
     "output_type": "execute_result",
     "data": {
      "text/plain": "(299, 299, 3)"
     },
     "metadata": {}
    }
   ]
  },
  {
   "cell_type": "markdown",
   "source": [
    "# 8.3"
   ],
   "metadata": {}
  },
  {
   "cell_type": "code",
   "source": [
    "from tensorflow.keras.applications.xception import Xception\n",
    "from tensorflow.keras.applications.xception import preprocess_input\n",
    "from tensorflow.keras.applications.xception import decode_predictions"
   ],
   "metadata": {
    "execution": {
     "iopub.status.busy": "2023-11-17T12:05:42.776778Z",
     "iopub.execute_input": "2023-11-17T12:05:42.777167Z",
     "iopub.status.idle": "2023-11-17T12:05:42.783694Z",
     "shell.execute_reply.started": "2023-11-17T12:05:42.777130Z",
     "shell.execute_reply": "2023-11-17T12:05:42.782838Z"
    },
    "trusted": true
   },
   "execution_count": 7,
   "outputs": []
  },
  {
   "cell_type": "code",
   "source": [
    "model = Xception(weights=\"imagenet\", input_shape=(299,299,3))"
   ],
   "metadata": {
    "execution": {
     "iopub.status.busy": "2023-11-17T12:05:42.784799Z",
     "iopub.execute_input": "2023-11-17T12:05:42.785599Z",
     "iopub.status.idle": "2023-11-17T12:05:49.208059Z",
     "shell.execute_reply.started": "2023-11-17T12:05:42.785571Z",
     "shell.execute_reply": "2023-11-17T12:05:49.206928Z"
    },
    "trusted": true
   },
   "execution_count": 8,
   "outputs": [
    {
     "name": "stdout",
     "text": "Downloading data from https://storage.googleapis.com/tensorflow/keras-applications/xception/xception_weights_tf_dim_ordering_tf_kernels.h5\n91884032/91884032 [==============================] - 0s 0us/step\n",
     "output_type": "stream"
    }
   ]
  },
  {
   "cell_type": "code",
   "source": [
    "X = np.array([x])\n",
    "X.shape\n",
    "X = preprocess_input(X)\n",
    "X[0]"
   ],
   "metadata": {
    "execution": {
     "iopub.status.busy": "2023-11-16T19:11:59.039580Z",
     "iopub.execute_input": "2023-11-16T19:11:59.039897Z",
     "iopub.status.idle": "2023-11-16T19:11:59.049895Z",
     "shell.execute_reply.started": "2023-11-16T19:11:59.039865Z",
     "shell.execute_reply": "2023-11-16T19:11:59.048741Z"
    },
    "trusted": true
   },
   "execution_count": null,
   "outputs": []
  },
  {
   "cell_type": "code",
   "source": [
    "pred = model.predict(X)"
   ],
   "metadata": {
    "execution": {
     "iopub.status.busy": "2023-11-16T19:11:59.051314Z",
     "iopub.execute_input": "2023-11-16T19:11:59.052107Z",
     "iopub.status.idle": "2023-11-16T19:12:05.699689Z",
     "shell.execute_reply.started": "2023-11-16T19:11:59.052065Z",
     "shell.execute_reply": "2023-11-16T19:12:05.698912Z"
    },
    "trusted": true
   },
   "execution_count": null,
   "outputs": []
  },
  {
   "cell_type": "code",
   "source": [
    "pred.shape\n",
    "decode_predictions(pred)"
   ],
   "metadata": {
    "execution": {
     "iopub.status.busy": "2023-11-16T19:12:05.703349Z",
     "iopub.execute_input": "2023-11-16T19:12:05.703670Z",
     "iopub.status.idle": "2023-11-16T19:12:05.808844Z",
     "shell.execute_reply.started": "2023-11-16T19:12:05.703642Z",
     "shell.execute_reply": "2023-11-16T19:12:05.807875Z"
    },
    "trusted": true
   },
   "execution_count": null,
   "outputs": []
  },
  {
   "cell_type": "markdown",
   "source": [
    "# 8.5"
   ],
   "metadata": {}
  },
  {
   "cell_type": "code",
   "source": [
    "from tensorflow.keras.preprocessing.image import ImageDataGenerator"
   ],
   "metadata": {
    "execution": {
     "iopub.status.busy": "2023-11-17T14:14:22.982621Z",
     "iopub.execute_input": "2023-11-17T14:14:22.983444Z",
     "iopub.status.idle": "2023-11-17T14:14:22.988508Z",
     "shell.execute_reply.started": "2023-11-17T14:14:22.983399Z",
     "shell.execute_reply": "2023-11-17T14:14:22.987329Z"
    },
    "trusted": true
   },
   "execution_count": 7,
   "outputs": []
  },
  {
   "cell_type": "code",
   "source": [
    "train_gen = ImageDataGenerator(preprocessing_function=preprocess_input)"
   ],
   "metadata": {
    "execution": {
     "iopub.status.busy": "2023-11-17T12:05:49.215472Z",
     "iopub.execute_input": "2023-11-17T12:05:49.216354Z",
     "iopub.status.idle": "2023-11-17T12:05:49.225715Z",
     "shell.execute_reply.started": "2023-11-17T12:05:49.216320Z",
     "shell.execute_reply": "2023-11-17T12:05:49.224844Z"
    },
    "trusted": true
   },
   "execution_count": 10,
   "outputs": []
  },
  {
   "cell_type": "code",
   "source": [
    "train_ds = train_gen.flow_from_directory(\"/kaggle/working/clothing-dataset-small/train\", \n",
    "                              target_size=(150,150), \n",
    "                              batch_size=32)"
   ],
   "metadata": {
    "execution": {
     "iopub.status.busy": "2023-11-17T12:05:49.226729Z",
     "iopub.execute_input": "2023-11-17T12:05:49.227241Z",
     "iopub.status.idle": "2023-11-17T12:05:49.342989Z",
     "shell.execute_reply.started": "2023-11-17T12:05:49.227216Z",
     "shell.execute_reply": "2023-11-17T12:05:49.342205Z"
    },
    "trusted": true
   },
   "execution_count": 11,
   "outputs": [
    {
     "name": "stdout",
     "text": "Found 3068 images belonging to 10 classes.\n",
     "output_type": "stream"
    }
   ]
  },
  {
   "cell_type": "code",
   "source": [
    "train_ds.class_indices"
   ],
   "metadata": {
    "execution": {
     "iopub.status.busy": "2023-11-16T19:12:05.976476Z",
     "iopub.execute_input": "2023-11-16T19:12:05.977141Z",
     "iopub.status.idle": "2023-11-16T19:12:05.983757Z",
     "shell.execute_reply.started": "2023-11-16T19:12:05.977103Z",
     "shell.execute_reply": "2023-11-16T19:12:05.982854Z"
    },
    "trusted": true
   },
   "execution_count": null,
   "outputs": []
  },
  {
   "cell_type": "code",
   "source": [
    "!ls -l /kaggle/working/clothing-dataset-small/train"
   ],
   "metadata": {
    "execution": {
     "iopub.status.busy": "2023-11-16T19:12:05.984928Z",
     "iopub.execute_input": "2023-11-16T19:12:05.985236Z",
     "iopub.status.idle": "2023-11-16T19:12:07.018075Z",
     "shell.execute_reply.started": "2023-11-16T19:12:05.985209Z",
     "shell.execute_reply": "2023-11-16T19:12:07.016898Z"
    },
    "trusted": true
   },
   "execution_count": null,
   "outputs": []
  },
  {
   "cell_type": "code",
   "source": [
    "X, y = next(train_ds)"
   ],
   "metadata": {
    "execution": {
     "iopub.status.busy": "2023-11-17T10:51:43.530124Z",
     "iopub.execute_input": "2023-11-17T10:51:43.530497Z",
     "iopub.status.idle": "2023-11-17T10:51:43.600773Z",
     "shell.execute_reply.started": "2023-11-17T10:51:43.530466Z",
     "shell.execute_reply": "2023-11-17T10:51:43.599651Z"
    },
    "trusted": true
   },
   "execution_count": 12,
   "outputs": []
  },
  {
   "cell_type": "code",
   "source": [
    "X.shape"
   ],
   "metadata": {
    "execution": {
     "iopub.status.busy": "2023-11-16T19:12:07.090045Z",
     "iopub.execute_input": "2023-11-16T19:12:07.090824Z",
     "iopub.status.idle": "2023-11-16T19:12:07.097183Z",
     "shell.execute_reply.started": "2023-11-16T19:12:07.090786Z",
     "shell.execute_reply": "2023-11-16T19:12:07.096225Z"
    },
    "trusted": true
   },
   "execution_count": null,
   "outputs": []
  },
  {
   "cell_type": "code",
   "source": [
    "y[:5]"
   ],
   "metadata": {
    "execution": {
     "iopub.status.busy": "2023-11-16T19:12:07.098748Z",
     "iopub.execute_input": "2023-11-16T19:12:07.099366Z",
     "iopub.status.idle": "2023-11-16T19:12:07.108795Z",
     "shell.execute_reply.started": "2023-11-16T19:12:07.099337Z",
     "shell.execute_reply": "2023-11-16T19:12:07.107837Z"
    },
    "trusted": true
   },
   "execution_count": null,
   "outputs": []
  },
  {
   "cell_type": "code",
   "source": [
    "val_gen = ImageDataGenerator(preprocessing_function=preprocess_input)\n",
    "\n",
    "val_ds = val_gen.flow_from_directory(\n",
    "\"/kaggle/working/clothing-dataset-small/validation\",\n",
    "target_size=(150,150),\n",
    "batch_size=32,\n",
    "shuffle=False)"
   ],
   "metadata": {
    "execution": {
     "iopub.status.busy": "2023-11-17T12:05:49.345794Z",
     "iopub.execute_input": "2023-11-17T12:05:49.346314Z",
     "iopub.status.idle": "2023-11-17T12:05:49.368118Z",
     "shell.execute_reply.started": "2023-11-17T12:05:49.346280Z",
     "shell.execute_reply": "2023-11-17T12:05:49.367226Z"
    },
    "trusted": true
   },
   "execution_count": 12,
   "outputs": [
    {
     "name": "stdout",
     "text": "Found 341 images belonging to 10 classes.\n",
     "output_type": "stream"
    }
   ]
  },
  {
   "cell_type": "code",
   "source": [],
   "metadata": {
    "execution": {
     "iopub.status.busy": "2023-11-16T19:12:07.138550Z",
     "iopub.execute_input": "2023-11-16T19:12:07.138835Z",
     "iopub.status.idle": "2023-11-16T19:12:10.355073Z",
     "shell.execute_reply.started": "2023-11-16T19:12:07.138810Z",
     "shell.execute_reply": "2023-11-16T19:12:10.354019Z"
    },
    "trusted": true
   },
   "execution_count": null,
   "outputs": []
  },
  {
   "cell_type": "code",
   "source": [
    "base_model = Xception(weights=\"imagenet\", include_top=False, input_shape=(150,150,3))\n",
    "base_model.trainable = False\n",
    "\n",
    "inputs = keras.Input(shape=(150,150,3))\n",
    "\n",
    "base = base_model(inputs, training=False)\n",
    "\n",
    "vectors = keras.layers.GlobalAveragePooling2D()(base)\n",
    "\n",
    "outputs = keras.layers.Dense(10)(vectors)\n",
    "\n",
    "model = keras.Model(inputs, outputs)"
   ],
   "metadata": {
    "execution": {
     "iopub.status.busy": "2023-11-17T12:05:49.369238Z",
     "iopub.execute_input": "2023-11-17T12:05:49.369510Z",
     "iopub.status.idle": "2023-11-17T12:05:51.894454Z",
     "shell.execute_reply.started": "2023-11-17T12:05:49.369485Z",
     "shell.execute_reply": "2023-11-17T12:05:51.893335Z"
    },
    "trusted": true
   },
   "execution_count": 13,
   "outputs": [
    {
     "name": "stdout",
     "text": "Downloading data from https://storage.googleapis.com/tensorflow/keras-applications/xception/xception_weights_tf_dim_ordering_tf_kernels_notop.h5\n83683744/83683744 [==============================] - 0s 0us/step\n",
     "output_type": "stream"
    }
   ]
  },
  {
   "cell_type": "code",
   "source": [
    "preds = model.predict(X)"
   ],
   "metadata": {
    "execution": {
     "iopub.status.busy": "2023-11-16T19:16:30.471755Z",
     "iopub.execute_input": "2023-11-16T19:16:30.472147Z",
     "iopub.status.idle": "2023-11-16T19:16:31.399904Z",
     "shell.execute_reply.started": "2023-11-16T19:16:30.472120Z",
     "shell.execute_reply": "2023-11-16T19:16:31.399076Z"
    },
    "trusted": true
   },
   "execution_count": null,
   "outputs": []
  },
  {
   "cell_type": "code",
   "source": [
    "preds.shape"
   ],
   "metadata": {
    "execution": {
     "iopub.status.busy": "2023-11-16T19:12:12.563148Z",
     "iopub.execute_input": "2023-11-16T19:12:12.563436Z",
     "iopub.status.idle": "2023-11-16T19:12:12.569479Z",
     "shell.execute_reply.started": "2023-11-16T19:12:12.563410Z",
     "shell.execute_reply": "2023-11-16T19:12:12.568365Z"
    },
    "trusted": true
   },
   "execution_count": null,
   "outputs": []
  },
  {
   "cell_type": "code",
   "source": [
    "preds[0]"
   ],
   "metadata": {
    "execution": {
     "iopub.status.busy": "2023-11-16T19:12:12.570724Z",
     "iopub.execute_input": "2023-11-16T19:12:12.570997Z",
     "iopub.status.idle": "2023-11-16T19:12:12.583000Z",
     "shell.execute_reply.started": "2023-11-16T19:12:12.570974Z",
     "shell.execute_reply": "2023-11-16T19:12:12.582147Z"
    },
    "trusted": true
   },
   "execution_count": null,
   "outputs": []
  },
  {
   "cell_type": "code",
   "source": [
    "learning_rate = 0.01"
   ],
   "metadata": {
    "execution": {
     "iopub.status.busy": "2023-11-16T19:12:12.584257Z",
     "iopub.execute_input": "2023-11-16T19:12:12.584661Z",
     "iopub.status.idle": "2023-11-16T19:12:12.595517Z",
     "shell.execute_reply.started": "2023-11-16T19:12:12.584623Z",
     "shell.execute_reply": "2023-11-16T19:12:12.594651Z"
    },
    "trusted": true
   },
   "execution_count": null,
   "outputs": []
  },
  {
   "cell_type": "code",
   "source": [
    "learning_rate = 0.01\n",
    "\n",
    "optimizer = keras.optimizers.Adam(learning_rate=learning_rate)\n",
    "\n",
    "loss = keras.losses.CategoricalCrossentropy(from_logits=True)\n",
    "model.compile(optimizer=optimizer, loss=loss, metrics=['accuracy'])"
   ],
   "metadata": {
    "execution": {
     "iopub.status.busy": "2023-11-17T12:05:51.896395Z",
     "iopub.execute_input": "2023-11-17T12:05:51.896799Z",
     "iopub.status.idle": "2023-11-17T12:05:51.918662Z",
     "shell.execute_reply.started": "2023-11-17T12:05:51.896750Z",
     "shell.execute_reply": "2023-11-17T12:05:51.917779Z"
    },
    "trusted": true
   },
   "execution_count": 14,
   "outputs": []
  },
  {
   "cell_type": "code",
   "source": [
    "history = model.fit(train_ds,epochs=10, validation_data=val_ds)"
   ],
   "metadata": {
    "execution": {
     "iopub.status.busy": "2023-11-16T19:17:21.606379Z",
     "iopub.execute_input": "2023-11-16T19:17:21.606774Z",
     "iopub.status.idle": "2023-11-16T19:18:39.054362Z",
     "shell.execute_reply.started": "2023-11-16T19:17:21.606743Z",
     "shell.execute_reply": "2023-11-16T19:18:39.053474Z"
    },
    "trusted": true
   },
   "execution_count": null,
   "outputs": []
  },
  {
   "cell_type": "code",
   "source": [
    "# plt.plot(history.history['accuracy'], label='train')\n",
    "plt.plot(history.history['val_accuracy'], label='val')\n",
    "plt.xticks(np.arange(10))\n",
    "plt.legend()"
   ],
   "metadata": {
    "execution": {
     "iopub.status.busy": "2023-11-16T19:47:38.799814Z",
     "iopub.execute_input": "2023-11-16T19:47:38.800178Z",
     "iopub.status.idle": "2023-11-16T19:47:39.116248Z",
     "shell.execute_reply.started": "2023-11-16T19:47:38.800149Z",
     "shell.execute_reply": "2023-11-16T19:47:39.115338Z"
    },
    "trusted": true
   },
   "execution_count": null,
   "outputs": []
  },
  {
   "cell_type": "markdown",
   "source": [
    "# 8.6"
   ],
   "metadata": {}
  },
  {
   "cell_type": "code",
   "source": [
    "def make_model(learning_rate=0.01):\n",
    "    base_model = Xception(weights=\"imagenet\", include_top=False, input_shape=(150,150,3))\n",
    "    base_model.trainable = False\n",
    "\n",
    "    inputs = keras.Input(shape=(150,150,3))\n",
    "\n",
    "    base = base_model(inputs, training=False)\n",
    "    \n",
    "    ##################################\n",
    "    \n",
    "    vectors = keras.layers.GlobalAveragePooling2D()(base)\n",
    "\n",
    "    outputs = keras.layers.Dense(10)(vectors)\n",
    "\n",
    "    model = keras.Model(inputs, outputs)\n",
    "    ##################################\n",
    "    optimizer = keras.optimizers.Adam(learning_rate=learning_rate)\n",
    "\n",
    "    loss = keras.losses.CategoricalCrossentropy(from_logits=True)\n",
    "    model.compile(optimizer=optimizer, loss=loss, metrics=['accuracy'])\n",
    "    return model"
   ],
   "metadata": {
    "execution": {
     "iopub.status.busy": "2023-11-16T20:06:34.020037Z",
     "iopub.execute_input": "2023-11-16T20:06:34.020937Z",
     "iopub.status.idle": "2023-11-16T20:06:34.028104Z",
     "shell.execute_reply.started": "2023-11-16T20:06:34.020903Z",
     "shell.execute_reply": "2023-11-16T20:06:34.027109Z"
    },
    "trusted": true
   },
   "execution_count": null,
   "outputs": []
  },
  {
   "cell_type": "code",
   "source": [
    "scores = {}\n",
    "\n",
    "for lr in [0.0001,0.001,0.01,0.1]:\n",
    "    print(lr)\n",
    "    model = make_model(learning_rate=lr)\n",
    "    history = model.fit(train_ds, epochs = 10, validation_data = val_ds)\n",
    "    scores[lr] = history.history\n",
    "    print()\n",
    "    print()"
   ],
   "metadata": {
    "execution": {
     "iopub.status.busy": "2023-11-16T20:06:45.012573Z",
     "iopub.execute_input": "2023-11-16T20:06:45.013563Z",
     "iopub.status.idle": "2023-11-16T20:11:57.596525Z",
     "shell.execute_reply.started": "2023-11-16T20:06:45.013527Z",
     "shell.execute_reply": "2023-11-16T20:11:57.595501Z"
    },
    "trusted": true
   },
   "execution_count": null,
   "outputs": []
  },
  {
   "cell_type": "code",
   "source": [
    "del scores[0.1]\n",
    "del scores[0.0001]"
   ],
   "metadata": {
    "execution": {
     "iopub.status.busy": "2023-11-16T20:52:50.755170Z",
     "iopub.execute_input": "2023-11-16T20:52:50.756023Z",
     "iopub.status.idle": "2023-11-16T20:52:50.760059Z",
     "shell.execute_reply.started": "2023-11-16T20:52:50.755992Z",
     "shell.execute_reply": "2023-11-16T20:52:50.759179Z"
    },
    "trusted": true
   },
   "execution_count": null,
   "outputs": []
  },
  {
   "cell_type": "code",
   "source": [
    "for lr, hist in scores.items():\n",
    "    plt.plot(hist['accuracy'], label=('train=%s' % lr))\n",
    "    plt.plot(hist['val_accuracy'], label=('val=%s' % lr))\n",
    "plt.xticks(np.arange(10))\n",
    "plt.legend()"
   ],
   "metadata": {
    "execution": {
     "iopub.status.busy": "2023-11-16T20:54:07.850097Z",
     "iopub.execute_input": "2023-11-16T20:54:07.850538Z",
     "iopub.status.idle": "2023-11-16T20:54:08.183130Z",
     "shell.execute_reply.started": "2023-11-16T20:54:07.850504Z",
     "shell.execute_reply": "2023-11-16T20:54:08.182221Z"
    },
    "trusted": true
   },
   "execution_count": null,
   "outputs": []
  },
  {
   "cell_type": "code",
   "source": [],
   "metadata": {},
   "execution_count": null,
   "outputs": []
  },
  {
   "cell_type": "markdown",
   "source": [
    "# 8.7"
   ],
   "metadata": {}
  },
  {
   "cell_type": "code",
   "source": [
    "model.save_weights('model_v1.h5', save_format='h5')"
   ],
   "metadata": {
    "execution": {
     "iopub.status.busy": "2023-11-16T21:02:31.516506Z",
     "iopub.execute_input": "2023-11-16T21:02:31.517410Z",
     "iopub.status.idle": "2023-11-16T21:02:31.826251Z",
     "shell.execute_reply.started": "2023-11-16T21:02:31.517375Z",
     "shell.execute_reply": "2023-11-16T21:02:31.825404Z"
    },
    "trusted": true
   },
   "execution_count": null,
   "outputs": []
  },
  {
   "cell_type": "code",
   "source": [
    "'xception_v1_{epoch:02d}_{val_accuracy:.3f}.h5'.format(epoch=3, val_accuracy=0.84)"
   ],
   "metadata": {
    "execution": {
     "iopub.status.busy": "2023-11-16T20:58:43.919093Z",
     "iopub.execute_input": "2023-11-16T20:58:43.919568Z",
     "iopub.status.idle": "2023-11-16T20:58:43.926964Z",
     "shell.execute_reply.started": "2023-11-16T20:58:43.919532Z",
     "shell.execute_reply": "2023-11-16T20:58:43.925919Z"
    },
    "trusted": true
   },
   "execution_count": null,
   "outputs": []
  },
  {
   "cell_type": "code",
   "source": [
    "checkpoint= keras.callbacks.ModelCheckpoint('xception_v1_{epoch:02d}_{val_accuracy:.3f}.h5',\n",
    "                                           save_best_only=True,\n",
    "                                           monitor=\"val_accuracy\",\n",
    "                                           mode='max')"
   ],
   "metadata": {
    "execution": {
     "iopub.status.busy": "2023-11-16T21:02:34.322838Z",
     "iopub.execute_input": "2023-11-16T21:02:34.323185Z",
     "iopub.status.idle": "2023-11-16T21:02:34.328181Z",
     "shell.execute_reply.started": "2023-11-16T21:02:34.323154Z",
     "shell.execute_reply": "2023-11-16T21:02:34.327183Z"
    },
    "trusted": true
   },
   "execution_count": null,
   "outputs": []
  },
  {
   "cell_type": "code",
   "source": [
    "learning_rate = 0.001\n",
    "model = make_model(learning_rate=learning_rate)\n",
    "history = model.fit(train_ds, epochs = 10, validation_data = val_ds, callbacks=[checkpoint])\n",
    "scores[lr] = history.history"
   ],
   "metadata": {
    "execution": {
     "iopub.status.busy": "2023-11-16T21:02:36.216716Z",
     "iopub.execute_input": "2023-11-16T21:02:36.217077Z",
     "iopub.status.idle": "2023-11-16T21:03:56.063483Z",
     "shell.execute_reply.started": "2023-11-16T21:02:36.217046Z",
     "shell.execute_reply": "2023-11-16T21:03:56.062060Z"
    },
    "trusted": true
   },
   "execution_count": null,
   "outputs": []
  },
  {
   "cell_type": "markdown",
   "source": [
    "# 8.8"
   ],
   "metadata": {}
  },
  {
   "cell_type": "code",
   "source": [
    "def make_model(learning_rate=0.01, size_inner = 100):\n",
    "    base_model = Xception(weights=\"imagenet\", include_top=False, input_shape=(150,150,3))\n",
    "    base_model.trainable = False\n",
    "\n",
    "    \n",
    "\n",
    "    \n",
    "    \n",
    "    ##################################\n",
    "    inputs = keras.Input(shape=(150,150,3))\n",
    "    base=base_model(inputs, training=False)\n",
    "    vectors = keras.layers.GlobalAveragePooling2D()(base)\n",
    "    inner = keras.layers.Dense(size_inner, activation='relu')(vectors)\n",
    "    outputs = keras.layers.Dense(10)(inner)\n",
    "\n",
    "    model = keras.Model(inputs, outputs)\n",
    "    ##################################\n",
    "    optimizer = keras.optimizers.Adam(learning_rate=learning_rate)\n",
    "\n",
    "    loss = keras.losses.CategoricalCrossentropy(from_logits=True)\n",
    "    model.compile(optimizer=optimizer, loss=loss, metrics=['accuracy'])\n",
    "    return model"
   ],
   "metadata": {
    "execution": {
     "iopub.status.busy": "2023-11-17T12:06:01.444835Z",
     "iopub.execute_input": "2023-11-17T12:06:01.445746Z",
     "iopub.status.idle": "2023-11-17T12:06:01.453175Z",
     "shell.execute_reply.started": "2023-11-17T12:06:01.445708Z",
     "shell.execute_reply": "2023-11-17T12:06:01.452185Z"
    },
    "trusted": true
   },
   "execution_count": 15,
   "outputs": []
  },
  {
   "cell_type": "code",
   "source": [
    "learning_rate = 0.001\n",
    "scores = {}\n",
    "\n",
    "for size in [10, 100, 1000]:\n",
    "    print(size)\n",
    "    model = make_model(learning_rate=learning_rate, size_inner=size)\n",
    "    history = model.fit(train_ds, epochs = 10, validation_data = val_ds)\n",
    "    scores[size] = history.history\n",
    "    print()\n",
    "    print()"
   ],
   "metadata": {
    "execution": {
     "iopub.status.busy": "2023-11-17T12:06:03.119263Z",
     "iopub.execute_input": "2023-11-17T12:06:03.119904Z",
     "iopub.status.idle": "2023-11-17T12:10:11.748749Z",
     "shell.execute_reply.started": "2023-11-17T12:06:03.119867Z",
     "shell.execute_reply": "2023-11-17T12:10:11.747685Z"
    },
    "collapsed": true,
    "jupyter": {
     "outputs_hidden": true
    },
    "trusted": true
   },
   "execution_count": 16,
   "outputs": [
    {
     "name": "stdout",
     "text": "10\nEpoch 1/10\n96/96 [==============================] - 21s 97ms/step - loss: 1.4821 - accuracy: 0.5241 - val_loss: 1.1309 - val_accuracy: 0.6540\nEpoch 2/10\n96/96 [==============================] - 7s 76ms/step - loss: 0.9651 - accuracy: 0.6816 - val_loss: 0.8906 - val_accuracy: 0.7038\nEpoch 3/10\n96/96 [==============================] - 7s 76ms/step - loss: 0.7586 - accuracy: 0.7471 - val_loss: 0.7463 - val_accuracy: 0.7537\nEpoch 4/10\n96/96 [==============================] - 7s 74ms/step - loss: 0.5902 - accuracy: 0.8061 - val_loss: 0.6453 - val_accuracy: 0.7918\nEpoch 5/10\n96/96 [==============================] - 7s 74ms/step - loss: 0.4842 - accuracy: 0.8416 - val_loss: 0.5991 - val_accuracy: 0.8240\nEpoch 6/10\n96/96 [==============================] - 7s 75ms/step - loss: 0.4198 - accuracy: 0.8634 - val_loss: 0.5895 - val_accuracy: 0.8123\nEpoch 7/10\n96/96 [==============================] - 7s 74ms/step - loss: 0.3620 - accuracy: 0.8898 - val_loss: 0.6017 - val_accuracy: 0.8152\nEpoch 8/10\n96/96 [==============================] - 7s 74ms/step - loss: 0.3173 - accuracy: 0.9074 - val_loss: 0.5745 - val_accuracy: 0.8387\nEpoch 9/10\n96/96 [==============================] - 7s 76ms/step - loss: 0.2797 - accuracy: 0.9195 - val_loss: 0.5663 - val_accuracy: 0.8152\nEpoch 10/10\n96/96 [==============================] - 7s 75ms/step - loss: 0.2432 - accuracy: 0.9355 - val_loss: 0.5695 - val_accuracy: 0.8240\n\n\n100\nEpoch 1/10\n96/96 [==============================] - 12s 84ms/step - loss: 0.9412 - accuracy: 0.6724 - val_loss: 0.6380 - val_accuracy: 0.7830\nEpoch 2/10\n96/96 [==============================] - 7s 76ms/step - loss: 0.5250 - accuracy: 0.8132 - val_loss: 0.6384 - val_accuracy: 0.7889\nEpoch 3/10\n96/96 [==============================] - 7s 77ms/step - loss: 0.3684 - accuracy: 0.8781 - val_loss: 0.6197 - val_accuracy: 0.7918\nEpoch 4/10\n96/96 [==============================] - 7s 75ms/step - loss: 0.2701 - accuracy: 0.9166 - val_loss: 0.5903 - val_accuracy: 0.8006\nEpoch 5/10\n96/96 [==============================] - 7s 75ms/step - loss: 0.2045 - accuracy: 0.9426 - val_loss: 0.5998 - val_accuracy: 0.8182\nEpoch 6/10\n96/96 [==============================] - 7s 74ms/step - loss: 0.1395 - accuracy: 0.9703 - val_loss: 0.5750 - val_accuracy: 0.8123\nEpoch 7/10\n96/96 [==============================] - 7s 75ms/step - loss: 0.0944 - accuracy: 0.9837 - val_loss: 0.5915 - val_accuracy: 0.8240\nEpoch 8/10\n96/96 [==============================] - 7s 76ms/step - loss: 0.0674 - accuracy: 0.9905 - val_loss: 0.5920 - val_accuracy: 0.8094\nEpoch 9/10\n96/96 [==============================] - 7s 73ms/step - loss: 0.0459 - accuracy: 0.9974 - val_loss: 0.6190 - val_accuracy: 0.8182\nEpoch 10/10\n96/96 [==============================] - 7s 74ms/step - loss: 0.0345 - accuracy: 0.9980 - val_loss: 0.6166 - val_accuracy: 0.8094\n\n\n1000\nEpoch 1/10\n96/96 [==============================] - 11s 84ms/step - loss: 0.9180 - accuracy: 0.6871 - val_loss: 0.7057 - val_accuracy: 0.7566\nEpoch 2/10\n96/96 [==============================] - 7s 76ms/step - loss: 0.4237 - accuracy: 0.8540 - val_loss: 0.5893 - val_accuracy: 0.8035\nEpoch 3/10\n96/96 [==============================] - 7s 75ms/step - loss: 0.2565 - accuracy: 0.9146 - val_loss: 0.6490 - val_accuracy: 0.7947\nEpoch 4/10\n96/96 [==============================] - 7s 74ms/step - loss: 0.1421 - accuracy: 0.9547 - val_loss: 0.5671 - val_accuracy: 0.8152\nEpoch 5/10\n96/96 [==============================] - 7s 75ms/step - loss: 0.0866 - accuracy: 0.9769 - val_loss: 0.7159 - val_accuracy: 0.8065\nEpoch 6/10\n96/96 [==============================] - 7s 76ms/step - loss: 0.0613 - accuracy: 0.9847 - val_loss: 0.6328 - val_accuracy: 0.8123\nEpoch 7/10\n96/96 [==============================] - 7s 74ms/step - loss: 0.0371 - accuracy: 0.9925 - val_loss: 0.7285 - val_accuracy: 0.8123\nEpoch 8/10\n96/96 [==============================] - 7s 74ms/step - loss: 0.0230 - accuracy: 0.9967 - val_loss: 0.7120 - val_accuracy: 0.8328\nEpoch 9/10\n96/96 [==============================] - 7s 74ms/step - loss: 0.0303 - accuracy: 0.9925 - val_loss: 0.6505 - val_accuracy: 0.8240\nEpoch 10/10\n96/96 [==============================] - 7s 76ms/step - loss: 0.0087 - accuracy: 0.9997 - val_loss: 0.7007 - val_accuracy: 0.8328\n\n\n",
     "output_type": "stream"
    }
   ]
  },
  {
   "cell_type": "code",
   "source": [
    "for lr, hist in scores.items():\n",
    "    # plt.plot(hist['accuracy'], label=('train=%s' % lr))\n",
    "    plt.plot(hist['val_accuracy'], label=('val=%s' % lr))\n",
    "plt.xticks(np.arange(10))\n",
    "plt.yticks([0.78,0.80,0.82,0.825,.84])\n",
    "plt.legend()"
   ],
   "metadata": {
    "execution": {
     "iopub.status.busy": "2023-11-17T12:28:37.115879Z",
     "iopub.execute_input": "2023-11-17T12:28:37.116268Z",
     "iopub.status.idle": "2023-11-17T12:28:37.413444Z",
     "shell.execute_reply.started": "2023-11-17T12:28:37.116236Z",
     "shell.execute_reply": "2023-11-17T12:28:37.411922Z"
    },
    "trusted": true
   },
   "execution_count": 20,
   "outputs": [
    {
     "execution_count": 20,
     "output_type": "execute_result",
     "data": {
      "text/plain": "<matplotlib.legend.Legend at 0x7b455ff83fa0>"
     },
     "metadata": {}
    },
    {
     "output_type": "display_data",
     "data": {
      "text/plain": "<Figure size 640x480 with 1 Axes>",
      "image/png": "[encoded data removed]"
     },
     "metadata": {}
    }
   ]
  },
  {
   "cell_type": "markdown",
   "source": [
    "# 8.9"
   ],
   "metadata": {}
  },
  {
   "cell_type": "code",
   "source": [
    "def make_model(learning_rate=0.01, size_inner = 100, droprate=0.5):\n",
    "    base_model = Xception(weights=\"imagenet\", include_top=False, input_shape=(150,150,3))\n",
    "    base_model.trainable = False\n",
    "    \n",
    "    ##################################\n",
    "    \n",
    "    inputs = keras.Input(shape=(150,150,3))\n",
    "    base=base_model(inputs, training=False)\n",
    "    vectors = keras.layers.GlobalAveragePooling2D()(base)\n",
    "    inner = keras.layers.Dense(size_inner, activation='relu')(vectors)\n",
    "    drop = keras.layers.Dropout(droprate)(inner)\n",
    "    outputs = keras.layers.Dense(10)(drop)\n",
    "    model = keras.Model(inputs, outputs)\n",
    "    \n",
    "    ##################################\n",
    "    \n",
    "    optimizer = keras.optimizers.Adam(learning_rate=learning_rate)\n",
    "    loss = keras.losses.CategoricalCrossentropy(from_logits=True)\n",
    "    model.compile(optimizer=optimizer, loss=loss, metrics=['accuracy'])\n",
    "    return model"
   ],
   "metadata": {
    "execution": {
     "iopub.status.busy": "2023-11-17T14:14:05.165512Z",
     "iopub.execute_input": "2023-11-17T14:14:05.165883Z",
     "iopub.status.idle": "2023-11-17T14:14:05.173748Z",
     "shell.execute_reply.started": "2023-11-17T14:14:05.165851Z",
     "shell.execute_reply": "2023-11-17T14:14:05.172845Z"
    },
    "trusted": true
   },
   "execution_count": 5,
   "outputs": []
  },
  {
   "cell_type": "code",
   "source": [
    "learning_rate = 0.001\n",
    "size = 100\n",
    "scores = {}\n",
    "\n",
    "for droprate in [0.0,0.2,0.5,0.8]:\n",
    "    print(droprate)\n",
    "    model = make_model(learning_rate=learning_rate, size_inner=size, droprate=droprate)\n",
    "    history = model.fit(train_ds, epochs = 30, validation_data = val_ds)\n",
    "    scores[droprate] = history.history\n",
    "    print()\n",
    "    print()"
   ],
   "metadata": {
    "execution": {
     "iopub.status.busy": "2023-11-17T12:48:18.066055Z",
     "iopub.execute_input": "2023-11-17T12:48:18.066445Z",
     "iopub.status.idle": "2023-11-17T13:03:02.824408Z",
     "shell.execute_reply.started": "2023-11-17T12:48:18.066413Z",
     "shell.execute_reply": "2023-11-17T13:03:02.823398Z"
    },
    "collapsed": true,
    "jupyter": {
     "outputs_hidden": true
    },
    "trusted": true
   },
   "execution_count": 26,
   "outputs": [
    {
     "name": "stdout",
     "text": "0.0\nEpoch 1/30\n96/96 [==============================] - 11s 83ms/step - loss: 0.9584 - accuracy: 0.6701 - val_loss: 0.6339 - val_accuracy: 0.8006\nEpoch 2/30\n96/96 [==============================] - 7s 74ms/step - loss: 0.4980 - accuracy: 0.8227 - val_loss: 0.5661 - val_accuracy: 0.8152\nEpoch 3/30\n96/96 [==============================] - 7s 74ms/step - loss: 0.3485 - accuracy: 0.8843 - val_loss: 0.6145 - val_accuracy: 0.7859\nEpoch 4/30\n96/96 [==============================] - 7s 74ms/step - loss: 0.2392 - accuracy: 0.9250 - val_loss: 0.6107 - val_accuracy: 0.8094\nEpoch 5/30\n96/96 [==============================] - 7s 74ms/step - loss: 0.1666 - accuracy: 0.9521 - val_loss: 0.5562 - val_accuracy: 0.8211\nEpoch 6/30\n96/96 [==============================] - 7s 74ms/step - loss: 0.1170 - accuracy: 0.9785 - val_loss: 0.6361 - val_accuracy: 0.7859\nEpoch 7/30\n96/96 [==============================] - 7s 73ms/step - loss: 0.0867 - accuracy: 0.9837 - val_loss: 0.5829 - val_accuracy: 0.8094\nEpoch 8/30\n96/96 [==============================] - 7s 73ms/step - loss: 0.0562 - accuracy: 0.9932 - val_loss: 0.6547 - val_accuracy: 0.8123\nEpoch 9/30\n96/96 [==============================] - 7s 74ms/step - loss: 0.0489 - accuracy: 0.9954 - val_loss: 0.6580 - val_accuracy: 0.8182\nEpoch 10/30\n96/96 [==============================] - 7s 75ms/step - loss: 0.0323 - accuracy: 0.9974 - val_loss: 0.6817 - val_accuracy: 0.8358\nEpoch 11/30\n96/96 [==============================] - 7s 73ms/step - loss: 0.0253 - accuracy: 0.9984 - val_loss: 0.6822 - val_accuracy: 0.8182\nEpoch 12/30\n96/96 [==============================] - 7s 73ms/step - loss: 0.0173 - accuracy: 0.9997 - val_loss: 0.6478 - val_accuracy: 0.8152\nEpoch 13/30\n96/96 [==============================] - 7s 75ms/step - loss: 0.0163 - accuracy: 0.9993 - val_loss: 0.6632 - val_accuracy: 0.8211\nEpoch 14/30\n96/96 [==============================] - 7s 74ms/step - loss: 0.0153 - accuracy: 0.9990 - val_loss: 0.7001 - val_accuracy: 0.8299\nEpoch 15/30\n96/96 [==============================] - 7s 75ms/step - loss: 0.0117 - accuracy: 0.9993 - val_loss: 0.6988 - val_accuracy: 0.8387\nEpoch 16/30\n96/96 [==============================] - 7s 74ms/step - loss: 0.0115 - accuracy: 0.9990 - val_loss: 0.6998 - val_accuracy: 0.8358\nEpoch 17/30\n96/96 [==============================] - 7s 73ms/step - loss: 0.0072 - accuracy: 0.9993 - val_loss: 0.7143 - val_accuracy: 0.8211\nEpoch 18/30\n96/96 [==============================] - 7s 74ms/step - loss: 0.0071 - accuracy: 0.9997 - val_loss: 0.7314 - val_accuracy: 0.7977\nEpoch 19/30\n96/96 [==============================] - 7s 75ms/step - loss: 0.0079 - accuracy: 0.9997 - val_loss: 0.7269 - val_accuracy: 0.8094\nEpoch 20/30\n96/96 [==============================] - 7s 74ms/step - loss: 0.0056 - accuracy: 0.9997 - val_loss: 0.7734 - val_accuracy: 0.8065\nEpoch 21/30\n96/96 [==============================] - 7s 75ms/step - loss: 0.0081 - accuracy: 0.9987 - val_loss: 0.7364 - val_accuracy: 0.8211\nEpoch 22/30\n96/96 [==============================] - 7s 74ms/step - loss: 0.0047 - accuracy: 0.9997 - val_loss: 0.7489 - val_accuracy: 0.8211\nEpoch 23/30\n96/96 [==============================] - 7s 73ms/step - loss: 0.0097 - accuracy: 0.9977 - val_loss: 0.7849 - val_accuracy: 0.8035\nEpoch 24/30\n96/96 [==============================] - 7s 74ms/step - loss: 0.0073 - accuracy: 0.9993 - val_loss: 0.7651 - val_accuracy: 0.8211\nEpoch 25/30\n96/96 [==============================] - 7s 75ms/step - loss: 0.0048 - accuracy: 0.9997 - val_loss: 0.7679 - val_accuracy: 0.8299\nEpoch 26/30\n96/96 [==============================] - 7s 73ms/step - loss: 0.0084 - accuracy: 0.9987 - val_loss: 0.8139 - val_accuracy: 0.8123\nEpoch 27/30\n96/96 [==============================] - 7s 73ms/step - loss: 0.0061 - accuracy: 0.9997 - val_loss: 0.8013 - val_accuracy: 0.8240\nEpoch 28/30\n96/96 [==============================] - 7s 73ms/step - loss: 0.0035 - accuracy: 0.9997 - val_loss: 0.8117 - val_accuracy: 0.8152\nEpoch 29/30\n96/96 [==============================] - 7s 73ms/step - loss: 0.0099 - accuracy: 0.9993 - val_loss: 0.8487 - val_accuracy: 0.8123\nEpoch 30/30\n96/96 [==============================] - 7s 73ms/step - loss: 0.0049 - accuracy: 0.9993 - val_loss: 0.8255 - val_accuracy: 0.8035\n\n\n0.2\nEpoch 1/30\n96/96 [==============================] - 11s 84ms/step - loss: 1.0335 - accuracy: 0.6555 - val_loss: 0.6729 - val_accuracy: 0.7654\nEpoch 2/30\n96/96 [==============================] - 7s 75ms/step - loss: 0.5796 - accuracy: 0.7914 - val_loss: 0.6378 - val_accuracy: 0.7683\nEpoch 3/30\n96/96 [==============================] - 7s 73ms/step - loss: 0.4460 - accuracy: 0.8527 - val_loss: 0.5886 - val_accuracy: 0.7801\nEpoch 4/30\n96/96 [==============================] - 7s 74ms/step - loss: 0.3391 - accuracy: 0.8859 - val_loss: 0.6038 - val_accuracy: 0.8035\nEpoch 5/30\n96/96 [==============================] - 7s 75ms/step - loss: 0.2678 - accuracy: 0.9081 - val_loss: 0.5490 - val_accuracy: 0.8094\nEpoch 6/30\n96/96 [==============================] - 7s 75ms/step - loss: 0.2112 - accuracy: 0.9374 - val_loss: 0.5962 - val_accuracy: 0.8035\nEpoch 7/30\n96/96 [==============================] - 7s 74ms/step - loss: 0.1576 - accuracy: 0.9547 - val_loss: 0.5564 - val_accuracy: 0.8270\nEpoch 8/30\n96/96 [==============================] - 7s 73ms/step - loss: 0.1290 - accuracy: 0.9651 - val_loss: 0.5693 - val_accuracy: 0.8240\nEpoch 9/30\n96/96 [==============================] - 7s 74ms/step - loss: 0.0923 - accuracy: 0.9821 - val_loss: 0.6135 - val_accuracy: 0.8094\nEpoch 10/30\n96/96 [==============================] - 7s 74ms/step - loss: 0.0920 - accuracy: 0.9762 - val_loss: 0.6067 - val_accuracy: 0.8211\nEpoch 11/30\n96/96 [==============================] - 7s 76ms/step - loss: 0.0712 - accuracy: 0.9863 - val_loss: 0.6346 - val_accuracy: 0.8094\nEpoch 12/30\n96/96 [==============================] - 8s 79ms/step - loss: 0.0549 - accuracy: 0.9905 - val_loss: 0.5853 - val_accuracy: 0.8240\nEpoch 13/30\n96/96 [==============================] - 7s 75ms/step - loss: 0.0540 - accuracy: 0.9886 - val_loss: 0.6389 - val_accuracy: 0.8299\nEpoch 14/30\n96/96 [==============================] - 7s 74ms/step - loss: 0.0464 - accuracy: 0.9919 - val_loss: 0.6456 - val_accuracy: 0.8182\nEpoch 15/30\n96/96 [==============================] - 7s 75ms/step - loss: 0.0422 - accuracy: 0.9915 - val_loss: 0.6643 - val_accuracy: 0.8094\nEpoch 16/30\n96/96 [==============================] - 7s 75ms/step - loss: 0.0396 - accuracy: 0.9909 - val_loss: 0.6584 - val_accuracy: 0.8152\nEpoch 17/30\n96/96 [==============================] - 7s 73ms/step - loss: 0.0344 - accuracy: 0.9941 - val_loss: 0.6957 - val_accuracy: 0.8211\nEpoch 18/30\n96/96 [==============================] - 7s 75ms/step - loss: 0.0322 - accuracy: 0.9932 - val_loss: 0.6759 - val_accuracy: 0.8240\nEpoch 19/30\n96/96 [==============================] - 7s 75ms/step - loss: 0.0238 - accuracy: 0.9958 - val_loss: 0.6736 - val_accuracy: 0.8123\nEpoch 20/30\n96/96 [==============================] - 7s 76ms/step - loss: 0.0238 - accuracy: 0.9967 - val_loss: 0.7260 - val_accuracy: 0.8123\nEpoch 21/30\n96/96 [==============================] - 7s 74ms/step - loss: 0.0241 - accuracy: 0.9980 - val_loss: 0.7476 - val_accuracy: 0.8211\nEpoch 22/30\n96/96 [==============================] - 7s 74ms/step - loss: 0.0264 - accuracy: 0.9958 - val_loss: 0.7583 - val_accuracy: 0.8123\nEpoch 23/30\n96/96 [==============================] - 7s 74ms/step - loss: 0.0273 - accuracy: 0.9948 - val_loss: 0.7396 - val_accuracy: 0.8240\nEpoch 24/30\n96/96 [==============================] - 7s 75ms/step - loss: 0.0238 - accuracy: 0.9938 - val_loss: 0.7080 - val_accuracy: 0.8152\nEpoch 25/30\n96/96 [==============================] - 7s 74ms/step - loss: 0.0215 - accuracy: 0.9954 - val_loss: 0.8029 - val_accuracy: 0.8094\nEpoch 26/30\n96/96 [==============================] - 7s 73ms/step - loss: 0.0196 - accuracy: 0.9964 - val_loss: 0.7425 - val_accuracy: 0.8211\nEpoch 27/30\n96/96 [==============================] - 7s 74ms/step - loss: 0.0244 - accuracy: 0.9958 - val_loss: 0.9133 - val_accuracy: 0.8123\nEpoch 28/30\n96/96 [==============================] - 7s 75ms/step - loss: 0.0217 - accuracy: 0.9941 - val_loss: 0.7615 - val_accuracy: 0.8240\nEpoch 29/30\n96/96 [==============================] - 7s 73ms/step - loss: 0.0195 - accuracy: 0.9971 - val_loss: 0.7949 - val_accuracy: 0.8387\nEpoch 30/30\n96/96 [==============================] - 7s 73ms/step - loss: 0.0152 - accuracy: 0.9967 - val_loss: 0.7920 - val_accuracy: 0.8299\n\n\n0.5\nEpoch 1/30\n96/96 [==============================] - 11s 82ms/step - loss: 1.2548 - accuracy: 0.5802 - val_loss: 0.7378 - val_accuracy: 0.7742\nEpoch 2/30\n96/96 [==============================] - 7s 75ms/step - loss: 0.8215 - accuracy: 0.7174 - val_loss: 0.6895 - val_accuracy: 0.7713\nEpoch 3/30\n96/96 [==============================] - 7s 73ms/step - loss: 0.6949 - accuracy: 0.7653 - val_loss: 0.6167 - val_accuracy: 0.8035\nEpoch 4/30\n96/96 [==============================] - 7s 74ms/step - loss: 0.5885 - accuracy: 0.7992 - val_loss: 0.5787 - val_accuracy: 0.8035\nEpoch 5/30\n96/96 [==============================] - 7s 74ms/step - loss: 0.5165 - accuracy: 0.8191 - val_loss: 0.5807 - val_accuracy: 0.8270\nEpoch 6/30\n96/96 [==============================] - 8s 79ms/step - loss: 0.4679 - accuracy: 0.8374 - val_loss: 0.5738 - val_accuracy: 0.8152\nEpoch 7/30\n96/96 [==============================] - 7s 74ms/step - loss: 0.4011 - accuracy: 0.8579 - val_loss: 0.5555 - val_accuracy: 0.8182\nEpoch 8/30\n96/96 [==============================] - 7s 75ms/step - loss: 0.3629 - accuracy: 0.8713 - val_loss: 0.5579 - val_accuracy: 0.8240\nEpoch 9/30\n96/96 [==============================] - 7s 73ms/step - loss: 0.3152 - accuracy: 0.8928 - val_loss: 0.5681 - val_accuracy: 0.8328\nEpoch 10/30\n96/96 [==============================] - 7s 76ms/step - loss: 0.3098 - accuracy: 0.8957 - val_loss: 0.5635 - val_accuracy: 0.8152\nEpoch 11/30\n96/96 [==============================] - 7s 74ms/step - loss: 0.2771 - accuracy: 0.9055 - val_loss: 0.5712 - val_accuracy: 0.8299\nEpoch 12/30\n96/96 [==============================] - 7s 74ms/step - loss: 0.2389 - accuracy: 0.9241 - val_loss: 0.6020 - val_accuracy: 0.8152\nEpoch 13/30\n96/96 [==============================] - 7s 73ms/step - loss: 0.2389 - accuracy: 0.9133 - val_loss: 0.5871 - val_accuracy: 0.8211\nEpoch 14/30\n96/96 [==============================] - 7s 73ms/step - loss: 0.2139 - accuracy: 0.9280 - val_loss: 0.6571 - val_accuracy: 0.8035\nEpoch 15/30\n96/96 [==============================] - 7s 76ms/step - loss: 0.1881 - accuracy: 0.9368 - val_loss: 0.6396 - val_accuracy: 0.8123\nEpoch 16/30\n96/96 [==============================] - 7s 73ms/step - loss: 0.1803 - accuracy: 0.9397 - val_loss: 0.5868 - val_accuracy: 0.8211\nEpoch 17/30\n96/96 [==============================] - 7s 72ms/step - loss: 0.1743 - accuracy: 0.9397 - val_loss: 0.6183 - val_accuracy: 0.8182\nEpoch 18/30\n96/96 [==============================] - 7s 74ms/step - loss: 0.1476 - accuracy: 0.9514 - val_loss: 0.6323 - val_accuracy: 0.8358\nEpoch 19/30\n96/96 [==============================] - 7s 74ms/step - loss: 0.1436 - accuracy: 0.9495 - val_loss: 0.6661 - val_accuracy: 0.8240\nEpoch 20/30\n96/96 [==============================] - 7s 76ms/step - loss: 0.1406 - accuracy: 0.9521 - val_loss: 0.6576 - val_accuracy: 0.8270\nEpoch 21/30\n96/96 [==============================] - 7s 73ms/step - loss: 0.1344 - accuracy: 0.9534 - val_loss: 0.6038 - val_accuracy: 0.8328\nEpoch 22/30\n96/96 [==============================] - 7s 73ms/step - loss: 0.1223 - accuracy: 0.9599 - val_loss: 0.6480 - val_accuracy: 0.8211\nEpoch 23/30\n96/96 [==============================] - 7s 74ms/step - loss: 0.1159 - accuracy: 0.9628 - val_loss: 0.7089 - val_accuracy: 0.8065\nEpoch 24/30\n96/96 [==============================] - 7s 74ms/step - loss: 0.1068 - accuracy: 0.9651 - val_loss: 0.6601 - val_accuracy: 0.8299\nEpoch 25/30\n96/96 [==============================] - 7s 72ms/step - loss: 0.1094 - accuracy: 0.9645 - val_loss: 0.6967 - val_accuracy: 0.8240\nEpoch 26/30\n96/96 [==============================] - 7s 75ms/step - loss: 0.1060 - accuracy: 0.9628 - val_loss: 0.6590 - val_accuracy: 0.8328\nEpoch 27/30\n96/96 [==============================] - 7s 74ms/step - loss: 0.0870 - accuracy: 0.9743 - val_loss: 0.6525 - val_accuracy: 0.8328\nEpoch 28/30\n96/96 [==============================] - 7s 74ms/step - loss: 0.0896 - accuracy: 0.9690 - val_loss: 0.6759 - val_accuracy: 0.8240\nEpoch 29/30\n96/96 [==============================] - 7s 73ms/step - loss: 0.0939 - accuracy: 0.9674 - val_loss: 0.7444 - val_accuracy: 0.8358\nEpoch 30/30\n96/96 [==============================] - 7s 72ms/step - loss: 0.0894 - accuracy: 0.9707 - val_loss: 0.7202 - val_accuracy: 0.8416\n\n\n0.8\nEpoch 1/30\n96/96 [==============================] - 11s 84ms/step - loss: 1.7989 - accuracy: 0.3990 - val_loss: 1.1146 - val_accuracy: 0.6628\nEpoch 2/30\n96/96 [==============================] - 7s 74ms/step - loss: 1.3712 - accuracy: 0.5303 - val_loss: 0.9534 - val_accuracy: 0.7126\nEpoch 3/30\n96/96 [==============================] - 7s 75ms/step - loss: 1.2324 - accuracy: 0.5626 - val_loss: 0.8420 - val_accuracy: 0.7595\nEpoch 4/30\n96/96 [==============================] - 7s 74ms/step - loss: 1.1676 - accuracy: 0.5782 - val_loss: 0.7905 - val_accuracy: 0.7537\nEpoch 5/30\n96/96 [==============================] - 7s 74ms/step - loss: 1.1120 - accuracy: 0.6085 - val_loss: 0.7259 - val_accuracy: 0.7918\nEpoch 6/30\n96/96 [==============================] - 7s 74ms/step - loss: 1.0517 - accuracy: 0.6209 - val_loss: 0.7085 - val_accuracy: 0.7742\nEpoch 7/30\n96/96 [==============================] - 7s 72ms/step - loss: 1.0369 - accuracy: 0.6121 - val_loss: 0.6865 - val_accuracy: 0.7801\nEpoch 8/30\n96/96 [==============================] - 7s 75ms/step - loss: 0.9640 - accuracy: 0.6287 - val_loss: 0.6166 - val_accuracy: 0.8006\nEpoch 9/30\n96/96 [==============================] - 7s 75ms/step - loss: 0.9314 - accuracy: 0.6522 - val_loss: 0.6244 - val_accuracy: 0.7947\nEpoch 10/30\n96/96 [==============================] - 7s 74ms/step - loss: 0.9069 - accuracy: 0.6613 - val_loss: 0.6208 - val_accuracy: 0.8065\nEpoch 11/30\n96/96 [==============================] - 7s 74ms/step - loss: 0.8751 - accuracy: 0.6754 - val_loss: 0.6011 - val_accuracy: 0.7918\nEpoch 12/30\n96/96 [==============================] - 7s 75ms/step - loss: 0.8289 - accuracy: 0.6848 - val_loss: 0.6227 - val_accuracy: 0.7742\nEpoch 13/30\n96/96 [==============================] - 7s 73ms/step - loss: 0.8135 - accuracy: 0.6939 - val_loss: 0.6193 - val_accuracy: 0.7977\nEpoch 14/30\n96/96 [==============================] - 7s 73ms/step - loss: 0.8271 - accuracy: 0.6952 - val_loss: 0.6203 - val_accuracy: 0.7977\nEpoch 15/30\n96/96 [==============================] - 7s 74ms/step - loss: 0.8034 - accuracy: 0.6978 - val_loss: 0.5790 - val_accuracy: 0.8152\nEpoch 16/30\n96/96 [==============================] - 7s 72ms/step - loss: 0.7626 - accuracy: 0.7034 - val_loss: 0.5712 - val_accuracy: 0.8006\nEpoch 17/30\n96/96 [==============================] - 7s 74ms/step - loss: 0.7785 - accuracy: 0.6982 - val_loss: 0.5866 - val_accuracy: 0.7977\nEpoch 18/30\n96/96 [==============================] - 7s 74ms/step - loss: 0.7790 - accuracy: 0.6972 - val_loss: 0.5714 - val_accuracy: 0.8211\nEpoch 19/30\n96/96 [==============================] - 7s 76ms/step - loss: 0.7455 - accuracy: 0.7083 - val_loss: 0.5777 - val_accuracy: 0.8240\nEpoch 20/30\n96/96 [==============================] - 7s 76ms/step - loss: 0.7290 - accuracy: 0.7158 - val_loss: 0.5759 - val_accuracy: 0.8211\nEpoch 21/30\n96/96 [==============================] - 7s 74ms/step - loss: 0.7010 - accuracy: 0.7357 - val_loss: 0.5597 - val_accuracy: 0.8270\nEpoch 22/30\n96/96 [==============================] - 7s 75ms/step - loss: 0.7264 - accuracy: 0.7184 - val_loss: 0.5726 - val_accuracy: 0.8094\nEpoch 23/30\n96/96 [==============================] - 7s 75ms/step - loss: 0.6741 - accuracy: 0.7383 - val_loss: 0.5527 - val_accuracy: 0.8211\nEpoch 24/30\n96/96 [==============================] - 7s 74ms/step - loss: 0.6898 - accuracy: 0.7239 - val_loss: 0.5587 - val_accuracy: 0.8182\nEpoch 25/30\n96/96 [==============================] - 7s 73ms/step - loss: 0.6554 - accuracy: 0.7360 - val_loss: 0.5364 - val_accuracy: 0.8299\nEpoch 26/30\n96/96 [==============================] - 7s 74ms/step - loss: 0.6373 - accuracy: 0.7451 - val_loss: 0.5501 - val_accuracy: 0.8328\nEpoch 27/30\n96/96 [==============================] - 7s 76ms/step - loss: 0.6443 - accuracy: 0.7435 - val_loss: 0.5496 - val_accuracy: 0.8123\nEpoch 28/30\n96/96 [==============================] - 7s 74ms/step - loss: 0.6408 - accuracy: 0.7454 - val_loss: 0.5590 - val_accuracy: 0.8065\nEpoch 29/30\n96/96 [==============================] - 7s 75ms/step - loss: 0.6213 - accuracy: 0.7572 - val_loss: 0.5644 - val_accuracy: 0.8240\nEpoch 30/30\n96/96 [==============================] - 7s 74ms/step - loss: 0.6321 - accuracy: 0.7523 - val_loss: 0.5682 - val_accuracy: 0.8065\n\n\n",
     "output_type": "stream"
    }
   ]
  },
  {
   "cell_type": "code",
   "source": [
    "for droprate, hist in scores.items():\n",
    "    plt.plot(hist['val_accuracy'], label=('val=%s' % droprate))\n",
    "\n",
    "plt.ylim(0.78, 0.86)\n",
    "plt.legend()"
   ],
   "metadata": {
    "execution": {
     "iopub.status.busy": "2023-11-17T13:18:47.854857Z",
     "iopub.execute_input": "2023-11-17T13:18:47.855272Z",
     "iopub.status.idle": "2023-11-17T13:18:48.153342Z",
     "shell.execute_reply.started": "2023-11-17T13:18:47.855239Z",
     "shell.execute_reply": "2023-11-17T13:18:48.152377Z"
    },
    "trusted": true
   },
   "execution_count": 28,
   "outputs": [
    {
     "execution_count": 28,
     "output_type": "execute_result",
     "data": {
      "text/plain": "<matplotlib.legend.Legend at 0x7b45784e5cf0>"
     },
     "metadata": {}
    },
    {
     "output_type": "display_data",
     "data": {
      "text/plain": "<Figure size 640x480 with 1 Axes>",
      "image/png": "[encoded data removed]"
     },
     "metadata": {}
    }
   ]
  },
  {
   "cell_type": "code",
   "source": [
    "hist = scores[0.2]\n",
    "plt.plot(hist['val_accuracy'], label=('val=%s' % droprate))\n",
    "plt.plot(hist['accuracy'], label=('val=%s' % droprate))\n"
   ],
   "metadata": {
    "execution": {
     "iopub.status.busy": "2023-11-17T13:22:26.874147Z",
     "iopub.execute_input": "2023-11-17T13:22:26.874527Z",
     "iopub.status.idle": "2023-11-17T13:22:27.146928Z",
     "shell.execute_reply.started": "2023-11-17T13:22:26.874496Z",
     "shell.execute_reply": "2023-11-17T13:22:27.146021Z"
    },
    "trusted": true
   },
   "execution_count": 35,
   "outputs": [
    {
     "execution_count": 35,
     "output_type": "execute_result",
     "data": {
      "text/plain": "[<matplotlib.lines.Line2D at 0x7b40dc5f6d10>]"
     },
     "metadata": {}
    },
    {
     "output_type": "display_data",
     "data": {
      "text/plain": "<Figure size 640x480 with 1 Axes>",
      "image/png": "[encoded data removed]"
     },
     "metadata": {}
    }
   ]
  },
  {
   "cell_type": "code",
   "source": [
    "hist = scores[0.2]\n",
    "plt.plot(hist['val_accuracy'], label=0.2)\n",
    "\n",
    "hist = scores[0.0]\n",
    "plt.plot(hist['val_accuracy'], label=0.0)\n",
    "plt.legend()"
   ],
   "metadata": {
    "execution": {
     "iopub.status.busy": "2023-11-17T13:24:00.653570Z",
     "iopub.execute_input": "2023-11-17T13:24:00.654280Z",
     "iopub.status.idle": "2023-11-17T13:24:00.914451Z",
     "shell.execute_reply.started": "2023-11-17T13:24:00.654241Z",
     "shell.execute_reply": "2023-11-17T13:24:00.913465Z"
    },
    "trusted": true
   },
   "execution_count": 37,
   "outputs": [
    {
     "execution_count": 37,
     "output_type": "execute_result",
     "data": {
      "text/plain": "<matplotlib.legend.Legend at 0x7b40dc444670>"
     },
     "metadata": {}
    },
    {
     "output_type": "display_data",
     "data": {
      "text/plain": "<Figure size 640x480 with 1 Axes>",
      "image/png": "[encoded data removed]"
     },
     "metadata": {}
    }
   ]
  },
  {
   "cell_type": "markdown",
   "source": [
    "# 8.10"
   ],
   "metadata": {}
  },
  {
   "cell_type": "code",
   "source": [
    "train_gen = ImageDataGenerator(preprocessing_function=preprocess_input,\n",
    "                               shear_range=10,\n",
    "                               zoom_range=0.1,\n",
    "                               vertical_flip=True\n",
    "                              )\n",
    "train_ds = train_gen.flow_from_directory(\"/kaggle/working/clothing-dataset-small/train\", \n",
    "                              target_size=(150,150), \n",
    "                              batch_size=32)\n",
    "val_gen = ImageDataGenerator(preprocessing_function=preprocess_input)\n",
    "\n",
    "val_ds = val_gen.flow_from_directory(\n",
    "\"/kaggle/working/clothing-dataset-small/validation\",\n",
    "target_size=(150,150),\n",
    "batch_size=32,\n",
    "shuffle=False)"
   ],
   "metadata": {
    "execution": {
     "iopub.status.busy": "2023-11-17T14:14:33.012699Z",
     "iopub.execute_input": "2023-11-17T14:14:33.013056Z",
     "iopub.status.idle": "2023-11-17T14:14:33.144577Z",
     "shell.execute_reply.started": "2023-11-17T14:14:33.013026Z",
     "shell.execute_reply": "2023-11-17T14:14:33.143844Z"
    },
    "trusted": true
   },
   "execution_count": 8,
   "outputs": [
    {
     "name": "stdout",
     "text": "Found 3068 images belonging to 10 classes.\nFound 341 images belonging to 10 classes.\n",
     "output_type": "stream"
    }
   ]
  },
  {
   "cell_type": "code",
   "source": [
    "learning_rate = 0.001\n",
    "size = 100\n",
    "droprate = 0.2\n",
    "\n",
    "model = make_model(learning_rate=learning_rate, size_inner=size, droprate=droprate)\n",
    "history = model.fit(train_ds, epochs = 50, validation_data = val_ds)\n",
    "\n"
   ],
   "metadata": {
    "execution": {
     "iopub.status.busy": "2023-11-17T14:14:35.260514Z",
     "iopub.execute_input": "2023-11-17T14:14:35.261453Z",
     "iopub.status.idle": "2023-11-17T14:31:48.316771Z",
     "shell.execute_reply.started": "2023-11-17T14:14:35.261418Z",
     "shell.execute_reply": "2023-11-17T14:31:48.315868Z"
    },
    "trusted": true
   },
   "execution_count": 9,
   "outputs": [
    {
     "name": "stdout",
     "text": "Downloading data from https://storage.googleapis.com/tensorflow/keras-applications/xception/xception_weights_tf_dim_ordering_tf_kernels_notop.h5\n83683744/83683744 [==============================] - 0s 0us/step\nEpoch 1/50\n96/96 [==============================] - 33s 226ms/step - loss: 1.3317 - accuracy: 0.5590 - val_loss: 0.7516 - val_accuracy: 0.7654\nEpoch 2/50\n96/96 [==============================] - 20s 210ms/step - loss: 0.9091 - accuracy: 0.6917 - val_loss: 0.6815 - val_accuracy: 0.7771\nEpoch 3/50\n96/96 [==============================] - 20s 208ms/step - loss: 0.7819 - accuracy: 0.7353 - val_loss: 0.6448 - val_accuracy: 0.7918\nEpoch 4/50\n96/96 [==============================] - 20s 213ms/step - loss: 0.6943 - accuracy: 0.7702 - val_loss: 0.6322 - val_accuracy: 0.7977\nEpoch 5/50\n96/96 [==============================] - 20s 210ms/step - loss: 0.6476 - accuracy: 0.7803 - val_loss: 0.6400 - val_accuracy: 0.7977\nEpoch 6/50\n96/96 [==============================] - 20s 209ms/step - loss: 0.6092 - accuracy: 0.7875 - val_loss: 0.6259 - val_accuracy: 0.7771\nEpoch 7/50\n96/96 [==============================] - 21s 215ms/step - loss: 0.5483 - accuracy: 0.8090 - val_loss: 0.6544 - val_accuracy: 0.7918\nEpoch 8/50\n96/96 [==============================] - 21s 214ms/step - loss: 0.5232 - accuracy: 0.8243 - val_loss: 0.6183 - val_accuracy: 0.7830\nEpoch 9/50\n96/96 [==============================] - 20s 210ms/step - loss: 0.5094 - accuracy: 0.8184 - val_loss: 0.6061 - val_accuracy: 0.8182\nEpoch 10/50\n96/96 [==============================] - 20s 212ms/step - loss: 0.4479 - accuracy: 0.8445 - val_loss: 0.6042 - val_accuracy: 0.8182\nEpoch 11/50\n96/96 [==============================] - 20s 212ms/step - loss: 0.4601 - accuracy: 0.8468 - val_loss: 0.5979 - val_accuracy: 0.8035\nEpoch 12/50\n96/96 [==============================] - 21s 214ms/step - loss: 0.4249 - accuracy: 0.8566 - val_loss: 0.5791 - val_accuracy: 0.8123\nEpoch 13/50\n96/96 [==============================] - 20s 213ms/step - loss: 0.3963 - accuracy: 0.8660 - val_loss: 0.6502 - val_accuracy: 0.7977\nEpoch 14/50\n96/96 [==============================] - 20s 209ms/step - loss: 0.3877 - accuracy: 0.8651 - val_loss: 0.5810 - val_accuracy: 0.8211\nEpoch 15/50\n96/96 [==============================] - 20s 209ms/step - loss: 0.3684 - accuracy: 0.8726 - val_loss: 0.5984 - val_accuracy: 0.8065\nEpoch 16/50\n96/96 [==============================] - 20s 211ms/step - loss: 0.3334 - accuracy: 0.8801 - val_loss: 0.5984 - val_accuracy: 0.8035\nEpoch 17/50\n96/96 [==============================] - 20s 210ms/step - loss: 0.3335 - accuracy: 0.8801 - val_loss: 0.6321 - val_accuracy: 0.8035\nEpoch 18/50\n96/96 [==============================] - 20s 211ms/step - loss: 0.3342 - accuracy: 0.8810 - val_loss: 0.6048 - val_accuracy: 0.8006\nEpoch 19/50\n96/96 [==============================] - 20s 212ms/step - loss: 0.3170 - accuracy: 0.8853 - val_loss: 0.6451 - val_accuracy: 0.8094\nEpoch 20/50\n96/96 [==============================] - 20s 210ms/step - loss: 0.2838 - accuracy: 0.9058 - val_loss: 0.6112 - val_accuracy: 0.7977\nEpoch 21/50\n96/96 [==============================] - 20s 209ms/step - loss: 0.3093 - accuracy: 0.8937 - val_loss: 0.6293 - val_accuracy: 0.7977\nEpoch 22/50\n96/96 [==============================] - 20s 211ms/step - loss: 0.2889 - accuracy: 0.8999 - val_loss: 0.6076 - val_accuracy: 0.7977\nEpoch 23/50\n96/96 [==============================] - 20s 205ms/step - loss: 0.2768 - accuracy: 0.9074 - val_loss: 0.6521 - val_accuracy: 0.8006\nEpoch 24/50\n96/96 [==============================] - 21s 214ms/step - loss: 0.2632 - accuracy: 0.9074 - val_loss: 0.6781 - val_accuracy: 0.7977\nEpoch 25/50\n96/96 [==============================] - 20s 211ms/step - loss: 0.2641 - accuracy: 0.9117 - val_loss: 0.6476 - val_accuracy: 0.7977\nEpoch 26/50\n96/96 [==============================] - 20s 210ms/step - loss: 0.2459 - accuracy: 0.9126 - val_loss: 0.6746 - val_accuracy: 0.7830\nEpoch 27/50\n96/96 [==============================] - 20s 208ms/step - loss: 0.2742 - accuracy: 0.9038 - val_loss: 0.6324 - val_accuracy: 0.8123\nEpoch 28/50\n96/96 [==============================] - 20s 210ms/step - loss: 0.2361 - accuracy: 0.9218 - val_loss: 0.6853 - val_accuracy: 0.8035\nEpoch 29/50\n96/96 [==============================] - 20s 209ms/step - loss: 0.2204 - accuracy: 0.9241 - val_loss: 0.7253 - val_accuracy: 0.8065\nEpoch 30/50\n96/96 [==============================] - 20s 211ms/step - loss: 0.2137 - accuracy: 0.9214 - val_loss: 0.6880 - val_accuracy: 0.8035\nEpoch 31/50\n96/96 [==============================] - 20s 211ms/step - loss: 0.2071 - accuracy: 0.9325 - val_loss: 0.6648 - val_accuracy: 0.8035\nEpoch 32/50\n96/96 [==============================] - 20s 210ms/step - loss: 0.2042 - accuracy: 0.9322 - val_loss: 0.6854 - val_accuracy: 0.8065\nEpoch 33/50\n96/96 [==============================] - 20s 210ms/step - loss: 0.2136 - accuracy: 0.9283 - val_loss: 0.6276 - val_accuracy: 0.8094\nEpoch 34/50\n96/96 [==============================] - 21s 214ms/step - loss: 0.2040 - accuracy: 0.9319 - val_loss: 0.6737 - val_accuracy: 0.7830\nEpoch 35/50\n96/96 [==============================] - 20s 210ms/step - loss: 0.2032 - accuracy: 0.9289 - val_loss: 0.6999 - val_accuracy: 0.7889\nEpoch 36/50\n96/96 [==============================] - 20s 211ms/step - loss: 0.1973 - accuracy: 0.9309 - val_loss: 0.6375 - val_accuracy: 0.8065\nEpoch 37/50\n96/96 [==============================] - 20s 209ms/step - loss: 0.1907 - accuracy: 0.9335 - val_loss: 0.6950 - val_accuracy: 0.8065\nEpoch 38/50\n96/96 [==============================] - 20s 207ms/step - loss: 0.1758 - accuracy: 0.9387 - val_loss: 0.7257 - val_accuracy: 0.7859\nEpoch 39/50\n96/96 [==============================] - 20s 211ms/step - loss: 0.1657 - accuracy: 0.9439 - val_loss: 0.7459 - val_accuracy: 0.7977\nEpoch 40/50\n96/96 [==============================] - 20s 213ms/step - loss: 0.1500 - accuracy: 0.9524 - val_loss: 0.6945 - val_accuracy: 0.8006\nEpoch 41/50\n96/96 [==============================] - 20s 206ms/step - loss: 0.1822 - accuracy: 0.9355 - val_loss: 0.7662 - val_accuracy: 0.8035\nEpoch 42/50\n96/96 [==============================] - 20s 211ms/step - loss: 0.1527 - accuracy: 0.9492 - val_loss: 0.7291 - val_accuracy: 0.7977\nEpoch 43/50\n96/96 [==============================] - 20s 211ms/step - loss: 0.1622 - accuracy: 0.9449 - val_loss: 0.7672 - val_accuracy: 0.8094\nEpoch 44/50\n96/96 [==============================] - 20s 210ms/step - loss: 0.1648 - accuracy: 0.9426 - val_loss: 0.7842 - val_accuracy: 0.8006\nEpoch 45/50\n96/96 [==============================] - 20s 209ms/step - loss: 0.1598 - accuracy: 0.9439 - val_loss: 0.7038 - val_accuracy: 0.8094\nEpoch 46/50\n96/96 [==============================] - 20s 207ms/step - loss: 0.1585 - accuracy: 0.9446 - val_loss: 0.8305 - val_accuracy: 0.8182\nEpoch 47/50\n96/96 [==============================] - 20s 210ms/step - loss: 0.1396 - accuracy: 0.9498 - val_loss: 0.7983 - val_accuracy: 0.8006\nEpoch 48/50\n96/96 [==============================] - 20s 209ms/step - loss: 0.1450 - accuracy: 0.9514 - val_loss: 0.7955 - val_accuracy: 0.8065\nEpoch 49/50\n96/96 [==============================] - 20s 208ms/step - loss: 0.1628 - accuracy: 0.9443 - val_loss: 0.8121 - val_accuracy: 0.7889\nEpoch 50/50\n96/96 [==============================] - 20s 210ms/step - loss: 0.1575 - accuracy: 0.9439 - val_loss: 0.7762 - val_accuracy: 0.7918\n",
     "output_type": "stream"
    }
   ]
  },
  {
   "cell_type": "code",
   "source": [
    "hist = history.history\n",
    "plt.plot(hist['val_accuracy'], label='val')\n",
    "plt.plot(hist['accuracy'], label='train')\n",
    "plt.legend()"
   ],
   "metadata": {
    "execution": {
     "iopub.status.busy": "2023-11-17T14:31:48.945978Z",
     "iopub.execute_input": "2023-11-17T14:31:48.946270Z",
     "iopub.status.idle": "2023-11-17T14:31:49.265932Z",
     "shell.execute_reply.started": "2023-11-17T14:31:48.946244Z",
     "shell.execute_reply": "2023-11-17T14:31:49.264957Z"
    },
    "trusted": true
   },
   "execution_count": 10,
   "outputs": [
    {
     "execution_count": 10,
     "output_type": "execute_result",
     "data": {
      "text/plain": "<matplotlib.legend.Legend at 0x7d01580a3580>"
     },
     "metadata": {}
    },
    {
     "output_type": "display_data",
     "data": {
      "text/plain": "<Figure size 640x480 with 1 Axes>",
      "image/png": "[encoded data removed]"
     },
     "metadata": {}
    }
   ]
  },
  {
   "cell_type": "markdown",
   "source": [
    "# 8.11"
   ],
   "metadata": {}
  },
  {
   "cell_type": "code",
   "source": [
    "learning_rate = 0.001\n",
    "size = 100\n",
    "droprate = 0.2\n",
    "input_size=299"
   ],
   "metadata": {
    "execution": {
     "iopub.status.busy": "2023-11-17T14:38:07.560393Z",
     "iopub.execute_input": "2023-11-17T14:38:07.560775Z",
     "iopub.status.idle": "2023-11-17T14:38:07.565300Z",
     "shell.execute_reply.started": "2023-11-17T14:38:07.560745Z",
     "shell.execute_reply": "2023-11-17T14:38:07.564248Z"
    },
    "trusted": true
   },
   "execution_count": 14,
   "outputs": []
  },
  {
   "cell_type": "code",
   "source": [
    "train_gen = ImageDataGenerator(preprocessing_function=preprocess_input,\n",
    "                               shear_range=10,\n",
    "                               zoom_range=0.1,\n",
    "                               vertical_flip=True\n",
    "                              )\n",
    "train_ds = train_gen.flow_from_directory(\"/kaggle/working/clothing-dataset-small/train\", \n",
    "                              target_size=(input_size,input_size), \n",
    "                              batch_size=32)\n",
    "val_gen = ImageDataGenerator(preprocessing_function=preprocess_input)\n",
    "\n",
    "val_ds = val_gen.flow_from_directory(\n",
    "    \"/kaggle/working/clothing-dataset-small/validation\",\n",
    "    target_size=(input_size,input_size),\n",
    "    batch_size=32,\n",
    "    shuffle=False)\n",
    "base_model = Xception(weights=\"imagenet\", \n",
    "                          include_top=False, \n",
    "                          input_shape=(input_size,input_size,3))\n",
    "base_model.trainable = False\n",
    "\n",
    "\n",
    "def make_model(input_size=299,learning_rate=0.01, size_inner = 100, droprate=0.5):\n",
    "   \n",
    "    \n",
    "    ##################################\n",
    "    \n",
    "    inputs = keras.Input(shape=(input_size,input_size,3))\n",
    "    base=base_model(inputs, training=False)\n",
    "    vectors = keras.layers.GlobalAveragePooling2D()(base)\n",
    "    inner = keras.layers.Dense(size_inner, activation='relu')(vectors)\n",
    "    drop = keras.layers.Dropout(droprate)(inner)\n",
    "    outputs = keras.layers.Dense(10)(drop)\n",
    "    model = keras.Model(inputs, outputs)\n",
    "    \n",
    "    ##################################\n",
    "    \n",
    "    optimizer = keras.optimizers.Adam(learning_rate=learning_rate)\n",
    "    loss = keras.losses.CategoricalCrossentropy(from_logits=True)\n",
    "    model.compile(optimizer=optimizer, loss=loss, metrics=['accuracy'])\n",
    "    return model"
   ],
   "metadata": {
    "execution": {
     "iopub.status.busy": "2023-11-17T14:38:45.897618Z",
     "iopub.execute_input": "2023-11-17T14:38:45.897995Z",
     "iopub.status.idle": "2023-11-17T14:38:47.432779Z",
     "shell.execute_reply.started": "2023-11-17T14:38:45.897964Z",
     "shell.execute_reply": "2023-11-17T14:38:47.431579Z"
    },
    "trusted": true
   },
   "execution_count": 15,
   "outputs": [
    {
     "name": "stdout",
     "text": "Found 3068 images belonging to 10 classes.\nFound 341 images belonging to 10 classes.\n",
     "output_type": "stream"
    }
   ]
  },
  {
   "cell_type": "code",
   "source": [
    "checkpoint = keras.callbacks.ModelCheckpoint(\n",
    "    'xception_v4_{epoch:02d}_{val_accuracy:.3f}.h5',\n",
    "    save_best_only=True,\n",
    "    monitor='val_accuracy',\n",
    "    mode='max')"
   ],
   "metadata": {
    "execution": {
     "iopub.status.busy": "2023-11-17T14:38:49.644267Z",
     "iopub.execute_input": "2023-11-17T14:38:49.644637Z",
     "iopub.status.idle": "2023-11-17T14:38:49.649231Z",
     "shell.execute_reply.started": "2023-11-17T14:38:49.644606Z",
     "shell.execute_reply": "2023-11-17T14:38:49.648470Z"
    },
    "trusted": true
   },
   "execution_count": 16,
   "outputs": []
  },
  {
   "cell_type": "code",
   "source": [
    "learning_rate = 0.001\n",
    "size = 100\n",
    "droprate = 0.2\n",
    "input_size=299\n",
    "model = make_model(input_size=input_size, learning_rate=learning_rate, size_inner=size, droprate=droprate)\n",
    "history = model.fit(train_ds, epochs = 50, validation_data = val_ds, callbacks=[checkpoint])\n",
    "\n"
   ],
   "metadata": {
    "execution": {
     "iopub.status.busy": "2023-11-17T14:39:02.036154Z",
     "iopub.execute_input": "2023-11-17T14:39:02.036530Z",
     "iopub.status.idle": "2023-11-17T15:19:51.672900Z",
     "shell.execute_reply.started": "2023-11-17T14:39:02.036489Z",
     "shell.execute_reply": "2023-11-17T15:19:51.671399Z"
    },
    "trusted": true
   },
   "execution_count": 17,
   "outputs": [
    {
     "name": "stdout",
     "text": "Epoch 1/50\n96/96 [==============================] - 74s 712ms/step - loss: 1.0664 - accuracy: 0.6542 - val_loss: 0.5667 - val_accuracy: 0.8094\nEpoch 2/50\n96/96 [==============================] - 65s 674ms/step - loss: 0.6800 - accuracy: 0.7669 - val_loss: 0.5134 - val_accuracy: 0.8328\nEpoch 3/50\n96/96 [==============================] - 65s 673ms/step - loss: 0.5761 - accuracy: 0.7992 - val_loss: 0.4689 - val_accuracy: 0.8475\nEpoch 4/50\n96/96 [==============================] - 65s 672ms/step - loss: 0.5244 - accuracy: 0.8282 - val_loss: 0.4195 - val_accuracy: 0.8592\nEpoch 5/50\n96/96 [==============================] - 63s 656ms/step - loss: 0.4813 - accuracy: 0.8396 - val_loss: 0.4093 - val_accuracy: 0.8592\nEpoch 6/50\n96/96 [==============================] - 64s 668ms/step - loss: 0.4503 - accuracy: 0.8481 - val_loss: 0.4388 - val_accuracy: 0.8475\nEpoch 7/50\n96/96 [==============================] - 64s 661ms/step - loss: 0.4057 - accuracy: 0.8582 - val_loss: 0.3965 - val_accuracy: 0.8475\nEpoch 8/50\n96/96 [==============================] - 61s 638ms/step - loss: 0.3998 - accuracy: 0.8625 - val_loss: 0.4322 - val_accuracy: 0.8446\nEpoch 9/50\n96/96 [==============================] - 65s 671ms/step - loss: 0.3699 - accuracy: 0.8729 - val_loss: 0.4004 - val_accuracy: 0.8622\nEpoch 10/50\n96/96 [==============================] - 64s 669ms/step - loss: 0.3411 - accuracy: 0.8866 - val_loss: 0.4191 - val_accuracy: 0.8504\nEpoch 11/50\n96/96 [==============================] - 63s 657ms/step - loss: 0.3331 - accuracy: 0.8866 - val_loss: 0.4151 - val_accuracy: 0.8446\nEpoch 12/50\n96/96 [==============================] - 63s 651ms/step - loss: 0.3173 - accuracy: 0.8846 - val_loss: 0.4402 - val_accuracy: 0.8416\nEpoch 13/50\n96/96 [==============================] - 64s 666ms/step - loss: 0.2852 - accuracy: 0.9042 - val_loss: 0.3999 - val_accuracy: 0.8534\nEpoch 14/50\n96/96 [==============================] - 65s 676ms/step - loss: 0.3008 - accuracy: 0.8954 - val_loss: 0.4054 - val_accuracy: 0.8651\nEpoch 15/50\n96/96 [==============================] - 66s 691ms/step - loss: 0.2830 - accuracy: 0.8983 - val_loss: 0.4131 - val_accuracy: 0.8592\nEpoch 16/50\n96/96 [==============================] - 63s 650ms/step - loss: 0.2643 - accuracy: 0.9068 - val_loss: 0.4245 - val_accuracy: 0.8592\nEpoch 17/50\n96/96 [==============================] - 64s 664ms/step - loss: 0.2470 - accuracy: 0.9169 - val_loss: 0.3975 - val_accuracy: 0.8622\nEpoch 18/50\n96/96 [==============================] - 64s 665ms/step - loss: 0.2515 - accuracy: 0.9123 - val_loss: 0.4291 - val_accuracy: 0.8592\nEpoch 19/50\n96/96 [==============================] - 63s 659ms/step - loss: 0.2367 - accuracy: 0.9198 - val_loss: 0.4219 - val_accuracy: 0.8563\nEpoch 20/50\n96/96 [==============================] - 63s 659ms/step - loss: 0.2285 - accuracy: 0.9244 - val_loss: 0.4425 - val_accuracy: 0.8622\nEpoch 21/50\n96/96 [==============================] - 64s 660ms/step - loss: 0.2073 - accuracy: 0.9316 - val_loss: 0.4079 - val_accuracy: 0.8739\nEpoch 22/50\n96/96 [==============================] - 63s 652ms/step - loss: 0.2118 - accuracy: 0.9289 - val_loss: 0.4350 - val_accuracy: 0.8563\nEpoch 23/50\n96/96 [==============================] - 63s 656ms/step - loss: 0.1963 - accuracy: 0.9325 - val_loss: 0.4375 - val_accuracy: 0.8651\nEpoch 24/50\n96/96 [==============================] - 62s 647ms/step - loss: 0.1982 - accuracy: 0.9387 - val_loss: 0.4678 - val_accuracy: 0.8739\nEpoch 25/50\n96/96 [==============================] - 64s 664ms/step - loss: 0.2079 - accuracy: 0.9263 - val_loss: 0.4500 - val_accuracy: 0.8592\nEpoch 26/50\n96/96 [==============================] - 64s 666ms/step - loss: 0.1909 - accuracy: 0.9358 - val_loss: 0.4893 - val_accuracy: 0.8534\nEpoch 27/50\n96/96 [==============================] - 63s 657ms/step - loss: 0.1883 - accuracy: 0.9368 - val_loss: 0.4577 - val_accuracy: 0.8710\nEpoch 28/50\n96/96 [==============================] - 63s 655ms/step - loss: 0.1671 - accuracy: 0.9449 - val_loss: 0.4595 - val_accuracy: 0.8622\nEpoch 29/50\n96/96 [==============================] - 64s 670ms/step - loss: 0.1604 - accuracy: 0.9439 - val_loss: 0.4813 - val_accuracy: 0.8475\nEpoch 30/50\n96/96 [==============================] - 65s 678ms/step - loss: 0.1604 - accuracy: 0.9410 - val_loss: 0.4788 - val_accuracy: 0.8534\nEpoch 31/50\n96/96 [==============================] - 63s 653ms/step - loss: 0.1643 - accuracy: 0.9420 - val_loss: 0.4815 - val_accuracy: 0.8504\nEpoch 32/50\n96/96 [==============================] - 65s 671ms/step - loss: 0.1556 - accuracy: 0.9498 - val_loss: 0.4810 - val_accuracy: 0.8534\nEpoch 33/50\n96/96 [==============================] - 63s 657ms/step - loss: 0.1615 - accuracy: 0.9475 - val_loss: 0.4557 - val_accuracy: 0.8592\nEpoch 34/50\n96/96 [==============================] - 64s 663ms/step - loss: 0.1419 - accuracy: 0.9482 - val_loss: 0.4931 - val_accuracy: 0.8651\nEpoch 35/50\n96/96 [==============================] - 62s 641ms/step - loss: 0.1348 - accuracy: 0.9544 - val_loss: 0.4863 - val_accuracy: 0.8680\nEpoch 36/50\n96/96 [==============================] - 63s 657ms/step - loss: 0.1360 - accuracy: 0.9537 - val_loss: 0.5009 - val_accuracy: 0.8651\nEpoch 37/50\n96/96 [==============================] - 64s 661ms/step - loss: 0.1193 - accuracy: 0.9580 - val_loss: 0.5138 - val_accuracy: 0.8563\nEpoch 38/50\n96/96 [==============================] - 62s 645ms/step - loss: 0.1495 - accuracy: 0.9495 - val_loss: 0.4695 - val_accuracy: 0.8622\nEpoch 39/50\n26/96 [=======>......................] - ETA: 44s - loss: 0.1063 - accuracy: 0.9688",
     "output_type": "stream"
    },
    {
     "traceback": [
      "\u001B[0;31m---------------------------------------------------------------------------\u001B[0m",
      "\u001B[0;31mKeyboardInterrupt\u001B[0m                         Traceback (most recent call last)",
      "Cell \u001B[0;32mIn[17], line 6\u001B[0m\n\u001B[1;32m      4\u001B[0m input_size\u001B[38;5;241m=\u001B[39m\u001B[38;5;241m299\u001B[39m\n\u001B[1;32m      5\u001B[0m model \u001B[38;5;241m=\u001B[39m make_model(input_size\u001B[38;5;241m=\u001B[39minput_size, learning_rate\u001B[38;5;241m=\u001B[39mlearning_rate, size_inner\u001B[38;5;241m=\u001B[39msize, droprate\u001B[38;5;241m=\u001B[39mdroprate)\n\u001B[0;32m----> 6\u001B[0m history \u001B[38;5;241m=\u001B[39m \u001B[43mmodel\u001B[49m\u001B[38;5;241;43m.\u001B[39;49m\u001B[43mfit\u001B[49m\u001B[43m(\u001B[49m\u001B[43mtrain_ds\u001B[49m\u001B[43m,\u001B[49m\u001B[43m \u001B[49m\u001B[43mepochs\u001B[49m\u001B[43m \u001B[49m\u001B[38;5;241;43m=\u001B[39;49m\u001B[43m \u001B[49m\u001B[38;5;241;43m50\u001B[39;49m\u001B[43m,\u001B[49m\u001B[43m \u001B[49m\u001B[43mvalidation_data\u001B[49m\u001B[43m \u001B[49m\u001B[38;5;241;43m=\u001B[39;49m\u001B[43m \u001B[49m\u001B[43mval_ds\u001B[49m\u001B[43m,\u001B[49m\u001B[43m \u001B[49m\u001B[43mcallbacks\u001B[49m\u001B[38;5;241;43m=\u001B[39;49m\u001B[43m[\u001B[49m\u001B[43mcheckpoint\u001B[49m\u001B[43m]\u001B[49m\u001B[43m)\u001B[49m\n",
      "File \u001B[0;32m/opt/conda/lib/python3.10/site-packages/keras/src/utils/traceback_utils.py:65\u001B[0m, in \u001B[0;36mfilter_traceback.<locals>.error_handler\u001B[0;34m(*args, **kwargs)\u001B[0m\n\u001B[1;32m     63\u001B[0m filtered_tb \u001B[38;5;241m=\u001B[39m \u001B[38;5;28;01mNone\u001B[39;00m\n\u001B[1;32m     64\u001B[0m \u001B[38;5;28;01mtry\u001B[39;00m:\n\u001B[0;32m---> 65\u001B[0m     \u001B[38;5;28;01mreturn\u001B[39;00m \u001B[43mfn\u001B[49m\u001B[43m(\u001B[49m\u001B[38;5;241;43m*\u001B[39;49m\u001B[43margs\u001B[49m\u001B[43m,\u001B[49m\u001B[43m \u001B[49m\u001B[38;5;241;43m*\u001B[39;49m\u001B[38;5;241;43m*\u001B[39;49m\u001B[43mkwargs\u001B[49m\u001B[43m)\u001B[49m\n\u001B[1;32m     66\u001B[0m \u001B[38;5;28;01mexcept\u001B[39;00m \u001B[38;5;167;01mException\u001B[39;00m \u001B[38;5;28;01mas\u001B[39;00m e:\n\u001B[1;32m     67\u001B[0m     filtered_tb \u001B[38;5;241m=\u001B[39m _process_traceback_frames(e\u001B[38;5;241m.\u001B[39m__traceback__)\n",
      "File \u001B[0;32m/opt/conda/lib/python3.10/site-packages/keras/src/engine/training.py:1742\u001B[0m, in \u001B[0;36mModel.fit\u001B[0;34m(self, x, y, batch_size, epochs, verbose, callbacks, validation_split, validation_data, shuffle, class_weight, sample_weight, initial_epoch, steps_per_epoch, validation_steps, validation_batch_size, validation_freq, max_queue_size, workers, use_multiprocessing)\u001B[0m\n\u001B[1;32m   1734\u001B[0m \u001B[38;5;28;01mwith\u001B[39;00m tf\u001B[38;5;241m.\u001B[39mprofiler\u001B[38;5;241m.\u001B[39mexperimental\u001B[38;5;241m.\u001B[39mTrace(\n\u001B[1;32m   1735\u001B[0m     \u001B[38;5;124m\"\u001B[39m\u001B[38;5;124mtrain\u001B[39m\u001B[38;5;124m\"\u001B[39m,\n\u001B[1;32m   1736\u001B[0m     epoch_num\u001B[38;5;241m=\u001B[39mepoch,\n\u001B[0;32m   (...)\u001B[0m\n\u001B[1;32m   1739\u001B[0m     _r\u001B[38;5;241m=\u001B[39m\u001B[38;5;241m1\u001B[39m,\n\u001B[1;32m   1740\u001B[0m ):\n\u001B[1;32m   1741\u001B[0m     callbacks\u001B[38;5;241m.\u001B[39mon_train_batch_begin(step)\n\u001B[0;32m-> 1742\u001B[0m     tmp_logs \u001B[38;5;241m=\u001B[39m \u001B[38;5;28;43mself\u001B[39;49m\u001B[38;5;241;43m.\u001B[39;49m\u001B[43mtrain_function\u001B[49m\u001B[43m(\u001B[49m\u001B[43miterator\u001B[49m\u001B[43m)\u001B[49m\n\u001B[1;32m   1743\u001B[0m     \u001B[38;5;28;01mif\u001B[39;00m data_handler\u001B[38;5;241m.\u001B[39mshould_sync:\n\u001B[1;32m   1744\u001B[0m         context\u001B[38;5;241m.\u001B[39masync_wait()\n",
      "File \u001B[0;32m/opt/conda/lib/python3.10/site-packages/tensorflow/python/util/traceback_utils.py:150\u001B[0m, in \u001B[0;36mfilter_traceback.<locals>.error_handler\u001B[0;34m(*args, **kwargs)\u001B[0m\n\u001B[1;32m    148\u001B[0m filtered_tb \u001B[38;5;241m=\u001B[39m \u001B[38;5;28;01mNone\u001B[39;00m\n\u001B[1;32m    149\u001B[0m \u001B[38;5;28;01mtry\u001B[39;00m:\n\u001B[0;32m--> 150\u001B[0m   \u001B[38;5;28;01mreturn\u001B[39;00m \u001B[43mfn\u001B[49m\u001B[43m(\u001B[49m\u001B[38;5;241;43m*\u001B[39;49m\u001B[43margs\u001B[49m\u001B[43m,\u001B[49m\u001B[43m \u001B[49m\u001B[38;5;241;43m*\u001B[39;49m\u001B[38;5;241;43m*\u001B[39;49m\u001B[43mkwargs\u001B[49m\u001B[43m)\u001B[49m\n\u001B[1;32m    151\u001B[0m \u001B[38;5;28;01mexcept\u001B[39;00m \u001B[38;5;167;01mException\u001B[39;00m \u001B[38;5;28;01mas\u001B[39;00m e:\n\u001B[1;32m    152\u001B[0m   filtered_tb \u001B[38;5;241m=\u001B[39m _process_traceback_frames(e\u001B[38;5;241m.\u001B[39m__traceback__)\n",
      "File \u001B[0;32m/opt/conda/lib/python3.10/site-packages/tensorflow/python/eager/polymorphic_function/polymorphic_function.py:825\u001B[0m, in \u001B[0;36mFunction.__call__\u001B[0;34m(self, *args, **kwds)\u001B[0m\n\u001B[1;32m    822\u001B[0m compiler \u001B[38;5;241m=\u001B[39m \u001B[38;5;124m\"\u001B[39m\u001B[38;5;124mxla\u001B[39m\u001B[38;5;124m\"\u001B[39m \u001B[38;5;28;01mif\u001B[39;00m \u001B[38;5;28mself\u001B[39m\u001B[38;5;241m.\u001B[39m_jit_compile \u001B[38;5;28;01melse\u001B[39;00m \u001B[38;5;124m\"\u001B[39m\u001B[38;5;124mnonXla\u001B[39m\u001B[38;5;124m\"\u001B[39m\n\u001B[1;32m    824\u001B[0m \u001B[38;5;28;01mwith\u001B[39;00m OptionalXlaContext(\u001B[38;5;28mself\u001B[39m\u001B[38;5;241m.\u001B[39m_jit_compile):\n\u001B[0;32m--> 825\u001B[0m   result \u001B[38;5;241m=\u001B[39m \u001B[38;5;28;43mself\u001B[39;49m\u001B[38;5;241;43m.\u001B[39;49m\u001B[43m_call\u001B[49m\u001B[43m(\u001B[49m\u001B[38;5;241;43m*\u001B[39;49m\u001B[43margs\u001B[49m\u001B[43m,\u001B[49m\u001B[43m \u001B[49m\u001B[38;5;241;43m*\u001B[39;49m\u001B[38;5;241;43m*\u001B[39;49m\u001B[43mkwds\u001B[49m\u001B[43m)\u001B[49m\n\u001B[1;32m    827\u001B[0m new_tracing_count \u001B[38;5;241m=\u001B[39m \u001B[38;5;28mself\u001B[39m\u001B[38;5;241m.\u001B[39mexperimental_get_tracing_count()\n\u001B[1;32m    828\u001B[0m without_tracing \u001B[38;5;241m=\u001B[39m (tracing_count \u001B[38;5;241m==\u001B[39m new_tracing_count)\n",
      "File \u001B[0;32m/opt/conda/lib/python3.10/site-packages/tensorflow/python/eager/polymorphic_function/polymorphic_function.py:857\u001B[0m, in \u001B[0;36mFunction._call\u001B[0;34m(self, *args, **kwds)\u001B[0m\n\u001B[1;32m    854\u001B[0m   \u001B[38;5;28mself\u001B[39m\u001B[38;5;241m.\u001B[39m_lock\u001B[38;5;241m.\u001B[39mrelease()\n\u001B[1;32m    855\u001B[0m   \u001B[38;5;66;03m# In this case we have created variables on the first call, so we run the\u001B[39;00m\n\u001B[1;32m    856\u001B[0m   \u001B[38;5;66;03m# defunned version which is guaranteed to never create variables.\u001B[39;00m\n\u001B[0;32m--> 857\u001B[0m   \u001B[38;5;28;01mreturn\u001B[39;00m \u001B[38;5;28;43mself\u001B[39;49m\u001B[38;5;241;43m.\u001B[39;49m\u001B[43m_no_variable_creation_fn\u001B[49m\u001B[43m(\u001B[49m\u001B[38;5;241;43m*\u001B[39;49m\u001B[43margs\u001B[49m\u001B[43m,\u001B[49m\u001B[43m \u001B[49m\u001B[38;5;241;43m*\u001B[39;49m\u001B[38;5;241;43m*\u001B[39;49m\u001B[43mkwds\u001B[49m\u001B[43m)\u001B[49m  \u001B[38;5;66;03m# pylint: disable=not-callable\u001B[39;00m\n\u001B[1;32m    858\u001B[0m \u001B[38;5;28;01melif\u001B[39;00m \u001B[38;5;28mself\u001B[39m\u001B[38;5;241m.\u001B[39m_variable_creation_fn \u001B[38;5;129;01mis\u001B[39;00m \u001B[38;5;129;01mnot\u001B[39;00m \u001B[38;5;28;01mNone\u001B[39;00m:\n\u001B[1;32m    859\u001B[0m   \u001B[38;5;66;03m# Release the lock early so that multiple threads can perform the call\u001B[39;00m\n\u001B[1;32m    860\u001B[0m   \u001B[38;5;66;03m# in parallel.\u001B[39;00m\n\u001B[1;32m    861\u001B[0m   \u001B[38;5;28mself\u001B[39m\u001B[38;5;241m.\u001B[39m_lock\u001B[38;5;241m.\u001B[39mrelease()\n",
      "File \u001B[0;32m/opt/conda/lib/python3.10/site-packages/tensorflow/python/eager/polymorphic_function/tracing_compiler.py:148\u001B[0m, in \u001B[0;36mTracingCompiler.__call__\u001B[0;34m(self, *args, **kwargs)\u001B[0m\n\u001B[1;32m    145\u001B[0m \u001B[38;5;28;01mwith\u001B[39;00m \u001B[38;5;28mself\u001B[39m\u001B[38;5;241m.\u001B[39m_lock:\n\u001B[1;32m    146\u001B[0m   (concrete_function,\n\u001B[1;32m    147\u001B[0m    filtered_flat_args) \u001B[38;5;241m=\u001B[39m \u001B[38;5;28mself\u001B[39m\u001B[38;5;241m.\u001B[39m_maybe_define_function(args, kwargs)\n\u001B[0;32m--> 148\u001B[0m \u001B[38;5;28;01mreturn\u001B[39;00m \u001B[43mconcrete_function\u001B[49m\u001B[38;5;241;43m.\u001B[39;49m\u001B[43m_call_flat\u001B[49m\u001B[43m(\u001B[49m\n\u001B[1;32m    149\u001B[0m \u001B[43m    \u001B[49m\u001B[43mfiltered_flat_args\u001B[49m\u001B[43m,\u001B[49m\u001B[43m \u001B[49m\u001B[43mcaptured_inputs\u001B[49m\u001B[38;5;241;43m=\u001B[39;49m\u001B[43mconcrete_function\u001B[49m\u001B[38;5;241;43m.\u001B[39;49m\u001B[43mcaptured_inputs\u001B[49m\u001B[43m)\u001B[49m\n",
      "File \u001B[0;32m/opt/conda/lib/python3.10/site-packages/tensorflow/python/eager/polymorphic_function/monomorphic_function.py:1349\u001B[0m, in \u001B[0;36mConcreteFunction._call_flat\u001B[0;34m(self, args, captured_inputs)\u001B[0m\n\u001B[1;32m   1345\u001B[0m possible_gradient_type \u001B[38;5;241m=\u001B[39m gradients_util\u001B[38;5;241m.\u001B[39mPossibleTapeGradientTypes(args)\n\u001B[1;32m   1346\u001B[0m \u001B[38;5;28;01mif\u001B[39;00m (possible_gradient_type \u001B[38;5;241m==\u001B[39m gradients_util\u001B[38;5;241m.\u001B[39mPOSSIBLE_GRADIENT_TYPES_NONE\n\u001B[1;32m   1347\u001B[0m     \u001B[38;5;129;01mand\u001B[39;00m executing_eagerly):\n\u001B[1;32m   1348\u001B[0m   \u001B[38;5;66;03m# No tape is watching; skip to running the function.\u001B[39;00m\n\u001B[0;32m-> 1349\u001B[0m   \u001B[38;5;28;01mreturn\u001B[39;00m \u001B[38;5;28mself\u001B[39m\u001B[38;5;241m.\u001B[39m_build_call_outputs(\u001B[38;5;28;43mself\u001B[39;49m\u001B[38;5;241;43m.\u001B[39;49m\u001B[43m_inference_function\u001B[49m\u001B[43m(\u001B[49m\u001B[38;5;241;43m*\u001B[39;49m\u001B[43margs\u001B[49m\u001B[43m)\u001B[49m)\n\u001B[1;32m   1350\u001B[0m forward_backward \u001B[38;5;241m=\u001B[39m \u001B[38;5;28mself\u001B[39m\u001B[38;5;241m.\u001B[39m_select_forward_and_backward_functions(\n\u001B[1;32m   1351\u001B[0m     args,\n\u001B[1;32m   1352\u001B[0m     possible_gradient_type,\n\u001B[1;32m   1353\u001B[0m     executing_eagerly)\n\u001B[1;32m   1354\u001B[0m forward_function, args_with_tangents \u001B[38;5;241m=\u001B[39m forward_backward\u001B[38;5;241m.\u001B[39mforward()\n",
      "File \u001B[0;32m/opt/conda/lib/python3.10/site-packages/tensorflow/python/eager/polymorphic_function/atomic_function.py:196\u001B[0m, in \u001B[0;36mAtomicFunction.__call__\u001B[0;34m(self, *args)\u001B[0m\n\u001B[1;32m    194\u001B[0m \u001B[38;5;28;01mwith\u001B[39;00m record\u001B[38;5;241m.\u001B[39mstop_recording():\n\u001B[1;32m    195\u001B[0m   \u001B[38;5;28;01mif\u001B[39;00m \u001B[38;5;28mself\u001B[39m\u001B[38;5;241m.\u001B[39m_bound_context\u001B[38;5;241m.\u001B[39mexecuting_eagerly():\n\u001B[0;32m--> 196\u001B[0m     outputs \u001B[38;5;241m=\u001B[39m \u001B[38;5;28;43mself\u001B[39;49m\u001B[38;5;241;43m.\u001B[39;49m\u001B[43m_bound_context\u001B[49m\u001B[38;5;241;43m.\u001B[39;49m\u001B[43mcall_function\u001B[49m\u001B[43m(\u001B[49m\n\u001B[1;32m    197\u001B[0m \u001B[43m        \u001B[49m\u001B[38;5;28;43mself\u001B[39;49m\u001B[38;5;241;43m.\u001B[39;49m\u001B[43mname\u001B[49m\u001B[43m,\u001B[49m\n\u001B[1;32m    198\u001B[0m \u001B[43m        \u001B[49m\u001B[38;5;28;43mlist\u001B[39;49m\u001B[43m(\u001B[49m\u001B[43margs\u001B[49m\u001B[43m)\u001B[49m\u001B[43m,\u001B[49m\n\u001B[1;32m    199\u001B[0m \u001B[43m        \u001B[49m\u001B[38;5;28;43mlen\u001B[39;49m\u001B[43m(\u001B[49m\u001B[38;5;28;43mself\u001B[39;49m\u001B[38;5;241;43m.\u001B[39;49m\u001B[43mfunction_type\u001B[49m\u001B[38;5;241;43m.\u001B[39;49m\u001B[43mflat_outputs\u001B[49m\u001B[43m)\u001B[49m\u001B[43m,\u001B[49m\n\u001B[1;32m    200\u001B[0m \u001B[43m    \u001B[49m\u001B[43m)\u001B[49m\n\u001B[1;32m    201\u001B[0m   \u001B[38;5;28;01melse\u001B[39;00m:\n\u001B[1;32m    202\u001B[0m     outputs \u001B[38;5;241m=\u001B[39m make_call_op_in_graph(\u001B[38;5;28mself\u001B[39m, \u001B[38;5;28mlist\u001B[39m(args))\n",
      "File \u001B[0;32m/opt/conda/lib/python3.10/site-packages/tensorflow/python/eager/context.py:1457\u001B[0m, in \u001B[0;36mContext.call_function\u001B[0;34m(self, name, tensor_inputs, num_outputs)\u001B[0m\n\u001B[1;32m   1455\u001B[0m cancellation_context \u001B[38;5;241m=\u001B[39m cancellation\u001B[38;5;241m.\u001B[39mcontext()\n\u001B[1;32m   1456\u001B[0m \u001B[38;5;28;01mif\u001B[39;00m cancellation_context \u001B[38;5;129;01mis\u001B[39;00m \u001B[38;5;28;01mNone\u001B[39;00m:\n\u001B[0;32m-> 1457\u001B[0m   outputs \u001B[38;5;241m=\u001B[39m \u001B[43mexecute\u001B[49m\u001B[38;5;241;43m.\u001B[39;49m\u001B[43mexecute\u001B[49m\u001B[43m(\u001B[49m\n\u001B[1;32m   1458\u001B[0m \u001B[43m      \u001B[49m\u001B[43mname\u001B[49m\u001B[38;5;241;43m.\u001B[39;49m\u001B[43mdecode\u001B[49m\u001B[43m(\u001B[49m\u001B[38;5;124;43m\"\u001B[39;49m\u001B[38;5;124;43mutf-8\u001B[39;49m\u001B[38;5;124;43m\"\u001B[39;49m\u001B[43m)\u001B[49m\u001B[43m,\u001B[49m\n\u001B[1;32m   1459\u001B[0m \u001B[43m      \u001B[49m\u001B[43mnum_outputs\u001B[49m\u001B[38;5;241;43m=\u001B[39;49m\u001B[43mnum_outputs\u001B[49m\u001B[43m,\u001B[49m\n\u001B[1;32m   1460\u001B[0m \u001B[43m      \u001B[49m\u001B[43minputs\u001B[49m\u001B[38;5;241;43m=\u001B[39;49m\u001B[43mtensor_inputs\u001B[49m\u001B[43m,\u001B[49m\n\u001B[1;32m   1461\u001B[0m \u001B[43m      \u001B[49m\u001B[43mattrs\u001B[49m\u001B[38;5;241;43m=\u001B[39;49m\u001B[43mattrs\u001B[49m\u001B[43m,\u001B[49m\n\u001B[1;32m   1462\u001B[0m \u001B[43m      \u001B[49m\u001B[43mctx\u001B[49m\u001B[38;5;241;43m=\u001B[39;49m\u001B[38;5;28;43mself\u001B[39;49m\u001B[43m,\u001B[49m\n\u001B[1;32m   1463\u001B[0m \u001B[43m  \u001B[49m\u001B[43m)\u001B[49m\n\u001B[1;32m   1464\u001B[0m \u001B[38;5;28;01melse\u001B[39;00m:\n\u001B[1;32m   1465\u001B[0m   outputs \u001B[38;5;241m=\u001B[39m execute\u001B[38;5;241m.\u001B[39mexecute_with_cancellation(\n\u001B[1;32m   1466\u001B[0m       name\u001B[38;5;241m.\u001B[39mdecode(\u001B[38;5;124m\"\u001B[39m\u001B[38;5;124mutf-8\u001B[39m\u001B[38;5;124m\"\u001B[39m),\n\u001B[1;32m   1467\u001B[0m       num_outputs\u001B[38;5;241m=\u001B[39mnum_outputs,\n\u001B[0;32m   (...)\u001B[0m\n\u001B[1;32m   1471\u001B[0m       cancellation_manager\u001B[38;5;241m=\u001B[39mcancellation_context,\n\u001B[1;32m   1472\u001B[0m   )\n",
      "File \u001B[0;32m/opt/conda/lib/python3.10/site-packages/tensorflow/python/eager/execute.py:53\u001B[0m, in \u001B[0;36mquick_execute\u001B[0;34m(op_name, num_outputs, inputs, attrs, ctx, name)\u001B[0m\n\u001B[1;32m     51\u001B[0m \u001B[38;5;28;01mtry\u001B[39;00m:\n\u001B[1;32m     52\u001B[0m   ctx\u001B[38;5;241m.\u001B[39mensure_initialized()\n\u001B[0;32m---> 53\u001B[0m   tensors \u001B[38;5;241m=\u001B[39m \u001B[43mpywrap_tfe\u001B[49m\u001B[38;5;241;43m.\u001B[39;49m\u001B[43mTFE_Py_Execute\u001B[49m\u001B[43m(\u001B[49m\u001B[43mctx\u001B[49m\u001B[38;5;241;43m.\u001B[39;49m\u001B[43m_handle\u001B[49m\u001B[43m,\u001B[49m\u001B[43m \u001B[49m\u001B[43mdevice_name\u001B[49m\u001B[43m,\u001B[49m\u001B[43m \u001B[49m\u001B[43mop_name\u001B[49m\u001B[43m,\u001B[49m\n\u001B[1;32m     54\u001B[0m \u001B[43m                                      \u001B[49m\u001B[43minputs\u001B[49m\u001B[43m,\u001B[49m\u001B[43m \u001B[49m\u001B[43mattrs\u001B[49m\u001B[43m,\u001B[49m\u001B[43m \u001B[49m\u001B[43mnum_outputs\u001B[49m\u001B[43m)\u001B[49m\n\u001B[1;32m     55\u001B[0m \u001B[38;5;28;01mexcept\u001B[39;00m core\u001B[38;5;241m.\u001B[39m_NotOkStatusException \u001B[38;5;28;01mas\u001B[39;00m e:\n\u001B[1;32m     56\u001B[0m   \u001B[38;5;28;01mif\u001B[39;00m name \u001B[38;5;129;01mis\u001B[39;00m \u001B[38;5;129;01mnot\u001B[39;00m \u001B[38;5;28;01mNone\u001B[39;00m:\n",
      "\u001B[0;31mKeyboardInterrupt\u001B[0m: "
     ],
     "ename": "KeyboardInterrupt",
     "evalue": "",
     "output_type": "error"
    }
   ]
  },
  {
   "cell_type": "markdown",
   "source": [
    "# 8.12"
   ],
   "metadata": {}
  },
  {
   "cell_type": "code",
   "source": [
    "model = keras.models.load_model('/kaggle/working/xception_v4_21_0.874.h5') # 0.89.8\n",
    "# model = keras.models.load_model('/kaggle/working/xception_v4_14_0.865.h5') # 0.88.4"
   ],
   "metadata": {
    "execution": {
     "iopub.status.busy": "2023-11-17T15:23:46.727306Z",
     "iopub.execute_input": "2023-11-17T15:23:46.727999Z",
     "iopub.status.idle": "2023-11-17T15:23:48.498557Z",
     "shell.execute_reply.started": "2023-11-17T15:23:46.727966Z",
     "shell.execute_reply": "2023-11-17T15:23:48.497584Z"
    },
    "trusted": true
   },
   "execution_count": 25,
   "outputs": []
  },
  {
   "cell_type": "code",
   "source": [
    "test_gen = ImageDataGenerator(preprocessing_function=preprocess_input)\n",
    "\n",
    "test_ds = test_gen.flow_from_directory(\n",
    "    \"/kaggle/working/clothing-dataset-small/test/\",\n",
    "    target_size=(299,299),\n",
    "    batch_size=32,\n",
    "    shuffle=False)"
   ],
   "metadata": {
    "execution": {
     "iopub.status.busy": "2023-11-17T15:23:50.078655Z",
     "iopub.execute_input": "2023-11-17T15:23:50.079127Z",
     "iopub.status.idle": "2023-11-17T15:23:50.104645Z",
     "shell.execute_reply.started": "2023-11-17T15:23:50.079084Z",
     "shell.execute_reply": "2023-11-17T15:23:50.103926Z"
    },
    "trusted": true
   },
   "execution_count": 26,
   "outputs": [
    {
     "name": "stdout",
     "text": "Found 372 images belonging to 10 classes.\n",
     "output_type": "stream"
    }
   ]
  },
  {
   "cell_type": "code",
   "source": [
    "model.evaluate(test_ds)"
   ],
   "metadata": {
    "execution": {
     "iopub.status.busy": "2023-11-17T15:23:51.556638Z",
     "iopub.execute_input": "2023-11-17T15:23:51.557356Z",
     "iopub.status.idle": "2023-11-17T15:23:55.442683Z",
     "shell.execute_reply.started": "2023-11-17T15:23:51.557323Z",
     "shell.execute_reply": "2023-11-17T15:23:55.441799Z"
    },
    "trusted": true
   },
   "execution_count": 27,
   "outputs": [
    {
     "name": "stdout",
     "text": "12/12 [==============================] - 4s 225ms/step - loss: 0.3040 - accuracy: 0.8978\n",
     "output_type": "stream"
    },
    {
     "execution_count": 27,
     "output_type": "execute_result",
     "data": {
      "text/plain": "[0.3039816915988922, 0.897849440574646]"
     },
     "metadata": {}
    }
   ]
  },
  {
   "cell_type": "code",
   "source": [
    "path = \"/kaggle/working/clothing-dataset-small/test/pants/c8d21106-bbdb-4e8d-83e4-bf3d14e54c16.jpg\""
   ],
   "metadata": {
    "execution": {
     "iopub.status.busy": "2023-11-17T15:24:09.607208Z",
     "iopub.execute_input": "2023-11-17T15:24:09.607859Z",
     "iopub.status.idle": "2023-11-17T15:24:09.611999Z",
     "shell.execute_reply.started": "2023-11-17T15:24:09.607822Z",
     "shell.execute_reply": "2023-11-17T15:24:09.611087Z"
    },
    "trusted": true
   },
   "execution_count": 28,
   "outputs": []
  },
  {
   "cell_type": "code",
   "source": [
    "img = load_img(path, target_size=(299,299))"
   ],
   "metadata": {
    "execution": {
     "iopub.status.busy": "2023-11-17T15:24:20.007940Z",
     "iopub.execute_input": "2023-11-17T15:24:20.008722Z",
     "iopub.status.idle": "2023-11-17T15:24:20.015581Z",
     "shell.execute_reply.started": "2023-11-17T15:24:20.008686Z",
     "shell.execute_reply": "2023-11-17T15:24:20.014465Z"
    },
    "trusted": true
   },
   "execution_count": 32,
   "outputs": []
  },
  {
   "cell_type": "code",
   "source": [
    "x=np.array(img)\n",
    "X=np.array([x])\n",
    "X.shape"
   ],
   "metadata": {
    "execution": {
     "iopub.status.busy": "2023-11-17T15:24:21.470212Z",
     "iopub.execute_input": "2023-11-17T15:24:21.470605Z",
     "iopub.status.idle": "2023-11-17T15:24:21.477640Z",
     "shell.execute_reply.started": "2023-11-17T15:24:21.470567Z",
     "shell.execute_reply": "2023-11-17T15:24:21.476722Z"
    },
    "trusted": true
   },
   "execution_count": 33,
   "outputs": [
    {
     "execution_count": 33,
     "output_type": "execute_result",
     "data": {
      "text/plain": "(1, 299, 299, 3)"
     },
     "metadata": {}
    }
   ]
  },
  {
   "cell_type": "code",
   "source": [
    "X = preprocess_input(X)"
   ],
   "metadata": {
    "execution": {
     "iopub.status.busy": "2023-11-17T15:24:22.774392Z",
     "iopub.execute_input": "2023-11-17T15:24:22.774764Z",
     "iopub.status.idle": "2023-11-17T15:24:22.779743Z",
     "shell.execute_reply.started": "2023-11-17T15:24:22.774734Z",
     "shell.execute_reply": "2023-11-17T15:24:22.778725Z"
    },
    "trusted": true
   },
   "execution_count": 34,
   "outputs": []
  },
  {
   "cell_type": "code",
   "source": [
    "pred = model.predict(X)\n",
    "classes= [\"dress\",\n",
    "         \"hat\",\n",
    "         \"longsleeve\",\n",
    "         \"outwear\",\n",
    "         \"pants\",\n",
    "         \"shirt\",\n",
    "         \"shoes\",\n",
    "         \"shorts\",\n",
    "         \"skirt\",\n",
    "         \"t-shirt\"\n",
    "]"
   ],
   "metadata": {
    "execution": {
     "iopub.status.busy": "2023-11-17T15:25:20.234600Z",
     "iopub.execute_input": "2023-11-17T15:25:20.234980Z",
     "iopub.status.idle": "2023-11-17T15:25:20.314726Z",
     "shell.execute_reply.started": "2023-11-17T15:25:20.234953Z",
     "shell.execute_reply": "2023-11-17T15:25:20.313786Z"
    },
    "trusted": true
   },
   "execution_count": 37,
   "outputs": [
    {
     "name": "stdout",
     "text": "1/1 [==============================] - 0s 24ms/step\n",
     "output_type": "stream"
    }
   ]
  },
  {
   "cell_type": "code",
   "source": [
    "dict(zip(classes,pred[0]))"
   ],
   "metadata": {
    "execution": {
     "iopub.status.busy": "2023-11-17T15:25:27.561419Z",
     "iopub.execute_input": "2023-11-17T15:25:27.561796Z",
     "iopub.status.idle": "2023-11-17T15:25:27.568718Z",
     "shell.execute_reply.started": "2023-11-17T15:25:27.561765Z",
     "shell.execute_reply": "2023-11-17T15:25:27.567564Z"
    },
    "trusted": true
   },
   "execution_count": 39,
   "outputs": [
    {
     "execution_count": 39,
     "output_type": "execute_result",
     "data": {
      "text/plain": "{'dress': -3.1102545,\n 'hat': -6.5845356,\n 'longsleeve': -0.8034689,\n 'outwear': -1.915237,\n 'pants': 10.255589,\n 'shirt': -2.1208942,\n 'shoes': -5.05567,\n 'shorts': 4.177712,\n 'skirt': -2.0554976,\n 't-shirt': -7.9233694}"
     },
     "metadata": {}
    }
   ]
  },
  {
   "cell_type": "code",
   "source": [],
   "metadata": {},
   "execution_count": null,
   "outputs": []
  },
  {
   "cell_type": "code",
   "source": [],
   "metadata": {},
   "execution_count": null,
   "outputs": []
  },
  {
   "cell_type": "code",
   "source": [],
   "metadata": {},
   "execution_count": null,
   "outputs": []
  },
  {
   "cell_type": "code",
   "source": [],
   "metadata": {},
   "execution_count": null,
   "outputs": []
  },
  {
   "cell_type": "code",
   "source": [],
   "metadata": {},
   "execution_count": null,
   "outputs": []
  },
  {
   "cell_type": "code",
   "source": [],
   "metadata": {},
   "execution_count": null,
   "outputs": []
  },
  {
   "cell_type": "code",
   "source": [],
   "metadata": {},
   "execution_count": null,
   "outputs": []
  },
  {
   "cell_type": "code",
   "source": [],
   "metadata": {},
   "execution_count": null,
   "outputs": []
  },
  {
   "cell_type": "code",
   "source": [],
   "metadata": {},
   "execution_count": null,
   "outputs": []
  },
  {
   "cell_type": "code",
   "source": [],
   "metadata": {},
   "execution_count": null,
   "outputs": []
  },
  {
   "cell_type": "code",
   "source": [],
   "metadata": {},
   "execution_count": null,
   "outputs": []
  },
  {
   "cell_type": "code",
   "source": [],
   "metadata": {},
   "execution_count": null,
   "outputs": []
  },
  {
   "cell_type": "code",
   "source": [],
   "metadata": {},
   "execution_count": null,
   "outputs": []
  },
  {
   "cell_type": "code",
   "source": [],
   "metadata": {},
   "execution_count": null,
   "outputs": []
  },
  {
   "cell_type": "code",
   "source": [],
   "metadata": {},
   "execution_count": null,
   "outputs": []
  },
  {
   "cell_type": "code",
   "source": [],
   "metadata": {},
   "execution_count": null,
   "outputs": []
  },
  {
   "cell_type": "code",
   "source": [],
   "metadata": {},
   "execution_count": null,
   "outputs": []
  },
  {
   "cell_type": "code",
   "source": [],
   "metadata": {},
   "execution_count": null,
   "outputs": []
  },
  {
   "cell_type": "code",
   "source": [],
   "metadata": {},
   "execution_count": null,
   "outputs": []
  },
  {
   "cell_type": "code",
   "source": [],
   "metadata": {},
   "execution_count": null,
   "outputs": []
  },
  {
   "cell_type": "code",
   "source": [],
   "metadata": {},
   "execution_count": null,
   "outputs": []
  }
 ]
}
